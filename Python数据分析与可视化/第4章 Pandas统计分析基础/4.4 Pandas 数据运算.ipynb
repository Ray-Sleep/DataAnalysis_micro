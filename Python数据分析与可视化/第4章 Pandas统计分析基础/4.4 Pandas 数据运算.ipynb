{
 "cells": [
  {
   "cell_type": "code",
   "execution_count": 8,
   "outputs": [],
   "source": [
    "import numpy as np\n",
    "import pandas as pd"
   ],
   "metadata": {
    "collapsed": false,
    "pycharm": {
     "name": "#%%\n"
    }
   }
  },
  {
   "cell_type": "markdown",
   "source": [
    "# 1.算术运算"
   ],
   "metadata": {
    "collapsed": false,
    "pycharm": {
     "name": "#%% md\n"
    }
   }
  },
  {
   "cell_type": "code",
   "execution_count": 5,
   "outputs": [
    {
     "name": "stdout",
     "output_type": "stream",
     "text": [
      "obj1:\n",
      " a     5.1\n",
      "c    -2.6\n",
      "g     7.8\n",
      "f    10.0\n",
      "dtype: float64\n",
      "obj2:\n",
      " a    2.6\n",
      "b   -2.8\n",
      "g    3.7\n",
      "h   -1.9\n",
      "dtype: float64\n",
      "a     7.7\n",
      "b     NaN\n",
      "c     NaN\n",
      "f     NaN\n",
      "g    11.5\n",
      "h     NaN\n",
      "dtype: float64\n"
     ]
    }
   ],
   "source": [
    "# Series 相加\n",
    "obj1 = pd.Series([5.1,-2.6,7.8,10],index=['a','c','g','f'])\n",
    "print('obj1:\\n',obj1)\n",
    "obj2 = pd.Series([2.6,-2.8,3.7,-1.9],index=['a','b','g','h'])\n",
    "print('obj2:\\n',obj2)\n",
    "print(obj1 + obj2)"
   ],
   "metadata": {
    "collapsed": false,
    "pycharm": {
     "name": "#%%\n"
    }
   }
  },
  {
   "cell_type": "code",
   "execution_count": 12,
   "outputs": [
    {
     "name": "stdout",
     "output_type": "stream",
     "text": [
      "   a  b  e\n",
      "A  0  1  2\n",
      "C  3  4  5\n",
      "df2:\n",
      "    a  b\n",
      "A  0  1\n",
      "D  2  3\n",
      "df1+df2:\n",
      "      a    b   e\n",
      "A  0.0  2.0 NaN\n",
      "C  NaN  NaN NaN\n",
      "D  NaN  NaN NaN\n"
     ]
    }
   ],
   "source": [
    "# DataFrame 类型的数据相加\n",
    "a = np.arange(6).reshape(2,3)\n",
    "b = np.arange(4).reshape(2,2)\n",
    "df1 = pd.DataFrame(a,columns= ['a','b','e'],index=['A','C'])\n",
    "print(df1)\n",
    "df2 = pd.DataFrame(b,columns= ['a','b'],index=['A','D'])\n",
    "print('df2:\\n',df2)\n",
    "print('df1+df2:\\n',df1+df2)"
   ],
   "metadata": {
    "collapsed": false,
    "pycharm": {
     "name": "#%%\n"
    }
   }
  },
  {
   "cell_type": "markdown",
   "source": [
    "# 2.函数应用和映射\n",
    "在数据分析时，经常会对数据进行较复杂的运算，此时需要定义函数。定义好的函数可以应用到Pandas数据中，有三种方法可以实现。\n",
    "(1)map 函数:将函数套用到 Series 的每个元素中。\n",
    "(2)apply 函数:将函数套用到 DateFrame 的行与列上,行与列通过 axis 参数设置。\n",
    "上。\n",
    "(3)applymap 函数:将函数套用到DataFrame的每个元素上。"
   ],
   "metadata": {
    "collapsed": false,
    "pycharm": {
     "name": "#%% md\n"
    }
   }
  },
  {
   "cell_type": "code",
   "execution_count": 13,
   "metadata": {
    "collapsed": true,
    "pycharm": {
     "name": "#%%\n"
    }
   },
   "outputs": [
    {
     "name": "stdout",
     "output_type": "stream",
     "text": [
      "    fruit   price\n",
      "0   apple     30元\n",
      "1   grape  43yuan\n",
      "2  banane     28元\n",
      "修改后的数据表：\n",
      "     fruit   price\n",
      "0   apple      30\n",
      "1   grape  43yuan\n",
      "2  banane      28\n"
     ]
    }
   ],
   "source": [
    "# 去掉水果价格表中的“元”\n",
    "data = {'fruit':['apple','grape','banane'],'price':['30元','43yuan','28元']}\n",
    "df1 = pd.DataFrame(data)\n",
    "print(df1)\n",
    "\n",
    "def f(x):\n",
    "    return x.split('元')[0]\n",
    "\n",
    "df1['price'] = df1['price'].map(f)\n",
    "print('修改后的数据表：\\n',df1)"
   ]
  },
  {
   "cell_type": "markdown",
   "source": [],
   "metadata": {
    "collapsed": false,
    "pycharm": {
     "name": "#%% md\n"
    }
   }
  },
  {
   "cell_type": "code",
   "execution_count": 17,
   "outputs": [
    {
     "name": "stdout",
     "output_type": "stream",
     "text": [
      "            a         b         c\n",
      "app  0.299944 -1.064762  0.301792\n",
      "win  3.603756 -0.617226  0.724317\n",
      "mac -1.142131 -0.257802  0.282583\n",
      "a    0.920523\n",
      "b   -0.646597\n",
      "c    0.436231\n",
      "dtype: float64\n"
     ]
    }
   ],
   "source": [
    "# apply 函数的使用方法\n",
    "# 创建一个随机数\n",
    "df2 = pd.DataFrame(np.random.randn(3,3),columns=['a','b','c'],index=['app','win','mac'])\n",
    "print(df2)\n",
    "\n",
    "# 计算每列的均值\n",
    "arr = df2.apply(np.mean)\n",
    "print(arr)"
   ],
   "metadata": {
    "collapsed": false,
    "pycharm": {
     "name": "#%%\n"
    }
   }
  },
  {
   "cell_type": "code",
   "execution_count": 18,
   "outputs": [
    {
     "name": "stdout",
     "output_type": "stream",
     "text": [
      "            a         b         c\n",
      "app  0.299944 -1.064762  0.301792\n",
      "win  3.603756 -0.617226  0.724317\n",
      "mac -1.142131 -0.257802  0.282583\n"
     ]
    },
    {
     "data": {
      "text/plain": "          a       b      c\napp   0.300  -1.065  0.302\nwin   3.604  -0.617  0.724\nmac  -1.142  -0.258  0.283",
      "text/html": "<div>\n<style scoped>\n    .dataframe tbody tr th:only-of-type {\n        vertical-align: middle;\n    }\n\n    .dataframe tbody tr th {\n        vertical-align: top;\n    }\n\n    .dataframe thead th {\n        text-align: right;\n    }\n</style>\n<table border=\"1\" class=\"dataframe\">\n  <thead>\n    <tr style=\"text-align: right;\">\n      <th></th>\n      <th>a</th>\n      <th>b</th>\n      <th>c</th>\n    </tr>\n  </thead>\n  <tbody>\n    <tr>\n      <th>app</th>\n      <td>0.300</td>\n      <td>-1.065</td>\n      <td>0.302</td>\n    </tr>\n    <tr>\n      <th>win</th>\n      <td>3.604</td>\n      <td>-0.617</td>\n      <td>0.724</td>\n    </tr>\n    <tr>\n      <th>mac</th>\n      <td>-1.142</td>\n      <td>-0.258</td>\n      <td>0.283</td>\n    </tr>\n  </tbody>\n</table>\n</div>"
     },
     "execution_count": 18,
     "metadata": {},
     "output_type": "execute_result"
    }
   ],
   "source": [
    "# applymap 函数的用法\n",
    "print(df2)\n",
    "df2.applymap(lambda x:'%.3f'%x)"
   ],
   "metadata": {
    "collapsed": false,
    "pycharm": {
     "name": "#%%\n"
    }
   }
  },
  {
   "cell_type": "markdown",
   "source": [
    "# 3.排序\n",
    "在 Series中，通过 sort_index 方法对索引进行排序，默认为升序，降序排序时加参数ascending=False。"
   ],
   "metadata": {
    "collapsed": false,
    "pycharm": {
     "name": "#%% md\n"
    }
   }
  },
  {
   "cell_type": "code",
   "execution_count": 19,
   "outputs": [
    {
     "name": "stdout",
     "output_type": "stream",
     "text": [
      "c    1\n",
      "b   -2\n",
      "a    4\n",
      "d   -4\n",
      "dtype: int64\n",
      "排序后的 Series:\n",
      " a    4\n",
      "b   -2\n",
      "c    1\n",
      "d   -4\n",
      "dtype: int64\n"
     ]
    }
   ],
   "source": [
    "# Series 的排序\n",
    "wy = pd.Series([1,-2,4,-4],index=['c','b','a','d'])\n",
    "print(wy)\n",
    "print('排序后的 Series:\\n',wy.sort_index())"
   ],
   "metadata": {
    "collapsed": false,
    "pycharm": {
     "name": "#%%\n"
    }
   }
  },
  {
   "cell_type": "markdown",
   "source": [
    "通过 sort_values 方法对数值进行排序"
   ],
   "metadata": {
    "collapsed": false,
    "pycharm": {
     "name": "#%% md\n"
    }
   }
  },
  {
   "cell_type": "code",
   "execution_count": 20,
   "outputs": [
    {
     "name": "stdout",
     "output_type": "stream",
     "text": [
      "值排序后的额Series:\n",
      " d   -4\n",
      "b   -2\n",
      "c    1\n",
      "a    4\n",
      "dtype: int64\n"
     ]
    }
   ],
   "source": [
    "# 对Series 的数值排序\n",
    "print('值排序后的额Series:\\n',wy.sort_values())"
   ],
   "metadata": {
    "collapsed": false,
    "pycharm": {
     "name": "#%%\n"
    }
   }
  },
  {
   "cell_type": "markdown",
   "source": [
    "对于DataFrame数据排序，通过指定轴方向，使用sort_index函数对行或列索引进行排序。如果要进行列排序，则通过 sort_values 函数把列名传给 by 参数即可。"
   ],
   "metadata": {
    "collapsed": false,
    "pycharm": {
     "name": "#%% md\n"
    }
   }
  },
  {
   "cell_type": "code",
   "execution_count": 23,
   "outputs": [
    {
     "name": "stdout",
     "output_type": "stream",
     "text": [
      "            a         b         c\n",
      "app  0.299944 -1.064762  0.301792\n",
      "win  3.603756 -0.617226  0.724317\n",
      "mac -1.142131 -0.257802  0.282583\n"
     ]
    },
    {
     "data": {
      "text/plain": "            a         b         c\napp  0.299944 -1.064762  0.301792\nwin  3.603756 -0.617226  0.724317\nmac -1.142131 -0.257802  0.282583",
      "text/html": "<div>\n<style scoped>\n    .dataframe tbody tr th:only-of-type {\n        vertical-align: middle;\n    }\n\n    .dataframe tbody tr th {\n        vertical-align: top;\n    }\n\n    .dataframe thead th {\n        text-align: right;\n    }\n</style>\n<table border=\"1\" class=\"dataframe\">\n  <thead>\n    <tr style=\"text-align: right;\">\n      <th></th>\n      <th>a</th>\n      <th>b</th>\n      <th>c</th>\n    </tr>\n  </thead>\n  <tbody>\n    <tr>\n      <th>app</th>\n      <td>0.299944</td>\n      <td>-1.064762</td>\n      <td>0.301792</td>\n    </tr>\n    <tr>\n      <th>win</th>\n      <td>3.603756</td>\n      <td>-0.617226</td>\n      <td>0.724317</td>\n    </tr>\n    <tr>\n      <th>mac</th>\n      <td>-1.142131</td>\n      <td>-0.257802</td>\n      <td>0.282583</td>\n    </tr>\n  </tbody>\n</table>\n</div>"
     },
     "execution_count": 23,
     "metadata": {},
     "output_type": "execute_result"
    }
   ],
   "source": [
    "# DataFrame 排序\n",
    "print(df2)\n",
    "df2.sort_values(by= 'b')"
   ],
   "metadata": {
    "collapsed": false,
    "pycharm": {
     "name": "#%%\n"
    }
   }
  },
  {
   "cell_type": "markdown",
   "source": [
    "# 4.汇总和统计"
   ],
   "metadata": {
    "collapsed": false,
    "pycharm": {
     "name": "#%% md\n"
    }
   }
  },
  {
   "cell_type": "markdown",
   "source": [
    "## 1)数据汇总\n",
    "在DataFrame中，可以通过sum方法对每列进行求和汇总，与Excel中的sum函数类似。如果设置 axis = 1指定轴方向，可以实现按行汇总。"
   ],
   "metadata": {
    "collapsed": false,
    "pycharm": {
     "name": "#%% md\n"
    }
   }
  },
  {
   "cell_type": "code",
   "execution_count": 24,
   "outputs": [
    {
     "name": "stdout",
     "output_type": "stream",
     "text": [
      "按列汇总：\n",
      " a    2.761569\n",
      "b   -1.939790\n",
      "c    1.308693\n",
      "dtype: float64\n",
      "按行汇总：\n",
      " app   -0.463026\n",
      "win    3.710847\n",
      "mac   -1.117349\n",
      "dtype: float64\n"
     ]
    }
   ],
   "source": [
    "# DataFrame 中的汇总\n",
    "print('按列汇总：\\n',df2.sum())\n",
    "print('按行汇总：\\n',df2.sum(axis=1))"
   ],
   "metadata": {
    "collapsed": false,
    "pycharm": {
     "name": "#%%\n"
    }
   }
  },
  {
   "cell_type": "markdown",
   "source": [
    "## 2)数据描述与统计\n",
    "描述性统计是用来概括、表述事物整体状况以及事物间关联、类属关系的统计方法。通过一些统计值可以描述一组数据的集中趋势和离散程度等分布状态。\n",
    "使用describe方法可以对每个数值型列进行统计，通常在对数据的初步观察时使用。"
   ],
   "metadata": {
    "collapsed": false,
    "pycharm": {
     "name": "#%% md\n"
    }
   }
  },
  {
   "cell_type": "code",
   "execution_count": 25,
   "outputs": [
    {
     "data": {
      "text/plain": "              a         b         c\ncount  3.000000  3.000000  3.000000\nmean   0.920523 -0.646597  0.436231\nstd    2.433044  0.404281  0.249675\nmin   -1.142131 -1.064762  0.282583\n25%   -0.421094 -0.840994  0.292188\n50%    0.299944 -0.617226  0.301792\n75%    1.951850 -0.437514  0.513055\nmax    3.603756 -0.257802  0.724317",
      "text/html": "<div>\n<style scoped>\n    .dataframe tbody tr th:only-of-type {\n        vertical-align: middle;\n    }\n\n    .dataframe tbody tr th {\n        vertical-align: top;\n    }\n\n    .dataframe thead th {\n        text-align: right;\n    }\n</style>\n<table border=\"1\" class=\"dataframe\">\n  <thead>\n    <tr style=\"text-align: right;\">\n      <th></th>\n      <th>a</th>\n      <th>b</th>\n      <th>c</th>\n    </tr>\n  </thead>\n  <tbody>\n    <tr>\n      <th>count</th>\n      <td>3.000000</td>\n      <td>3.000000</td>\n      <td>3.000000</td>\n    </tr>\n    <tr>\n      <th>mean</th>\n      <td>0.920523</td>\n      <td>-0.646597</td>\n      <td>0.436231</td>\n    </tr>\n    <tr>\n      <th>std</th>\n      <td>2.433044</td>\n      <td>0.404281</td>\n      <td>0.249675</td>\n    </tr>\n    <tr>\n      <th>min</th>\n      <td>-1.142131</td>\n      <td>-1.064762</td>\n      <td>0.282583</td>\n    </tr>\n    <tr>\n      <th>25%</th>\n      <td>-0.421094</td>\n      <td>-0.840994</td>\n      <td>0.292188</td>\n    </tr>\n    <tr>\n      <th>50%</th>\n      <td>0.299944</td>\n      <td>-0.617226</td>\n      <td>0.301792</td>\n    </tr>\n    <tr>\n      <th>75%</th>\n      <td>1.951850</td>\n      <td>-0.437514</td>\n      <td>0.513055</td>\n    </tr>\n    <tr>\n      <th>max</th>\n      <td>3.603756</td>\n      <td>-0.257802</td>\n      <td>0.724317</td>\n    </tr>\n  </tbody>\n</table>\n</div>"
     },
     "execution_count": 25,
     "metadata": {},
     "output_type": "execute_result"
    }
   ],
   "source": [
    "# DataFrame 中的汇总\n",
    "df2.describe()"
   ],
   "metadata": {
    "collapsed": false,
    "pycharm": {
     "name": "#%%\n"
    }
   }
  },
  {
   "cell_type": "code",
   "execution_count": 27,
   "outputs": [
    {
     "name": "stdout",
     "output_type": "stream",
     "text": [
      "['a' 'b' 'c' 'd']\n",
      "a    2\n",
      "c    2\n",
      "b    1\n",
      "d    1\n",
      "dtype: int64\n"
     ]
    }
   ],
   "source": [
    "# 数据的频数统计\n",
    "obj = pd.Series(['a','b','c','a','d','c'])\n",
    "print(obj.unique())\n",
    "print(obj.value_counts())"
   ],
   "metadata": {
    "collapsed": false,
    "pycharm": {
     "name": "#%%\n"
    }
   }
  },
  {
   "cell_type": "code",
   "execution_count": null,
   "outputs": [],
   "source": [],
   "metadata": {
    "collapsed": false,
    "pycharm": {
     "name": "#%%\n"
    }
   }
  }
 ],
 "metadata": {
  "kernelspec": {
   "display_name": "Python 3",
   "language": "python",
   "name": "python3"
  },
  "language_info": {
   "codemirror_mode": {
    "name": "ipython",
    "version": 2
   },
   "file_extension": ".py",
   "mimetype": "text/x-python",
   "name": "python",
   "nbconvert_exporter": "python",
   "pygments_lexer": "ipython2",
   "version": "2.7.6"
  }
 },
 "nbformat": 4,
 "nbformat_minor": 0
}