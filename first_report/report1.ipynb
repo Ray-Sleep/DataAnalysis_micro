{
 "cells": [
  {
   "cell_type": "markdown",
   "source": [
    "## 1.导入模块"
   ],
   "metadata": {
    "collapsed": false,
    "pycharm": {
     "name": "#%% md\n"
    }
   }
  },
  {
   "cell_type": "code",
   "execution_count": 26,
   "outputs": [],
   "source": [
    "import numpy as np\n",
    "import csv"
   ],
   "metadata": {
    "collapsed": false,
    "pycharm": {
     "name": "#%%\n"
    }
   }
  },
  {
   "cell_type": "markdown",
   "source": [
    "## 2.获取数据"
   ],
   "metadata": {
    "collapsed": false,
    "pycharm": {
     "name": "#%% md\n"
    }
   }
  },
  {
   "cell_type": "code",
   "execution_count": 1,
   "outputs": [
    {
     "ename": "FileNotFoundError",
     "evalue": "[Errno 2] No such file or directory: 'iris.csv'",
     "output_type": "error",
     "traceback": [
      "\u001B[1;31m---------------------------------------------------------------------------\u001B[0m",
      "\u001B[1;31mFileNotFoundError\u001B[0m                         Traceback (most recent call last)",
      "Input \u001B[1;32mIn [1]\u001B[0m, in \u001B[0;36m<cell line: 2>\u001B[1;34m()\u001B[0m\n\u001B[0;32m      1\u001B[0m iris_data \u001B[38;5;241m=\u001B[39m []\n\u001B[1;32m----> 2\u001B[0m \u001B[38;5;28;01mwith\u001B[39;00m \u001B[38;5;28;43mopen\u001B[39;49m\u001B[43m(\u001B[49m\u001B[38;5;124;43m\"\u001B[39;49m\u001B[38;5;124;43miris.csv\u001B[39;49m\u001B[38;5;124;43m\"\u001B[39;49m\u001B[43m)\u001B[49m \u001B[38;5;28;01mas\u001B[39;00m csvfile:\n\u001B[0;32m      3\u001B[0m     \u001B[38;5;66;03m# 使用 csv.reader 读取 csvfile 中的文件：\u001B[39;00m\n\u001B[0;32m      4\u001B[0m     csv_reader \u001B[38;5;241m=\u001B[39m csv\u001B[38;5;241m.\u001B[39mreader(csvfile)\n\u001B[0;32m      6\u001B[0m     \u001B[38;5;66;03m# 读取第一行各列的标题\u001B[39;00m\n",
      "\u001B[1;31mFileNotFoundError\u001B[0m: [Errno 2] No such file or directory: 'iris.csv'"
     ]
    }
   ],
   "source": [
    "iris_data = []\n",
    "with open(\"iris.csv\") as csvfile:\n",
    "    # 使用 csv.reader 读取 csvfile 中的文件：\n",
    "    csv_reader = csv.reader(csvfile)\n",
    "\n",
    "    # 读取第一行各列的标题\n",
    "    birth_header = next(csv_reader)\n",
    "    # 将 csv 文件中的数据保存到 birth_data 中\n",
    "    for row in csv_reader:\n",
    "        iris_data.append(row)\n",
    "\n",
    "iris_data"
   ],
   "metadata": {
    "collapsed": false,
    "pycharm": {
     "name": "#%%\n"
    }
   }
  },
  {
   "cell_type": "markdown",
   "source": [
    "## 3.数据清理：去掉索引号"
   ],
   "metadata": {
    "collapsed": false,
    "pycharm": {
     "name": "#%% md\n"
    }
   }
  },
  {
   "cell_type": "code",
   "execution_count": 28,
   "outputs": [
    {
     "data": {
      "text/plain": "[('5.1', '3.5', '1.4', '0.2', 'setosa'),\n ('4.9', '3', '1.4', '0.2', 'setosa'),\n ('4.7', '3.2', '1.3', '0.2', 'setosa'),\n ('4.6', '3.1', '1.5', '0.2', 'setosa'),\n ('5', '3.6', '1.4', '0.2', 'setosa'),\n ('5.4', '3.9', '1.7', '0.4', 'setosa'),\n ('4.6', '3.4', '1.4', '0.3', 'setosa'),\n ('5', '3.4', '1.5', '0.2', 'setosa'),\n ('4.4', '2.9', '1.4', '0.2', 'setosa'),\n ('4.9', '3.1', '1.5', '0.1', 'setosa'),\n ('5.4', '3.7', '1.5', '0.2', 'setosa'),\n ('4.8', '3.4', '1.6', '0.2', 'setosa'),\n ('4.8', '3', '1.4', '0.1', 'setosa'),\n ('4.3', '3', '1.1', '0.1', 'setosa'),\n ('5.8', '4', '1.2', '0.2', 'setosa'),\n ('5.7', '4.4', '1.5', '0.4', 'setosa'),\n ('5.4', '3.9', '1.3', '0.4', 'setosa'),\n ('5.1', '3.5', '1.4', '0.3', 'setosa'),\n ('5.7', '3.8', '1.7', '0.3', 'setosa'),\n ('5.1', '3.8', '1.5', '0.3', 'setosa'),\n ('5.4', '3.4', '1.7', '0.2', 'setosa'),\n ('5.1', '3.7', '1.5', '0.4', 'setosa'),\n ('4.6', '3.6', '1', '0.2', 'setosa'),\n ('5.1', '3.3', '1.7', '0.5', 'setosa'),\n ('4.8', '3.4', '1.9', '0.2', 'setosa'),\n ('5', '3', '1.6', '0.2', 'setosa'),\n ('5', '3.4', '1.6', '0.4', 'setosa'),\n ('5.2', '3.5', '1.5', '0.2', 'setosa'),\n ('5.2', '3.4', '1.4', '0.2', 'setosa'),\n ('4.7', '3.2', '1.6', '0.2', 'setosa'),\n ('4.8', '3.1', '1.6', '0.2', 'setosa'),\n ('5.4', '3.4', '1.5', '0.4', 'setosa'),\n ('5.2', '4.1', '1.5', '0.1', 'setosa'),\n ('5.5', '4.2', '1.4', '0.2', 'setosa'),\n ('4.9', '3.1', '1.5', '0.2', 'setosa'),\n ('5', '3.2', '1.2', '0.2', 'setosa'),\n ('5.5', '3.5', '1.3', '0.2', 'setosa'),\n ('4.9', '3.6', '1.4', '0.1', 'setosa'),\n ('4.4', '3', '1.3', '0.2', 'setosa'),\n ('5.1', '3.4', '1.5', '0.2', 'setosa'),\n ('5', '3.5', '1.3', '0.3', 'setosa'),\n ('4.5', '2.3', '1.3', '0.3', 'setosa'),\n ('4.4', '3.2', '1.3', '0.2', 'setosa'),\n ('5', '3.5', '1.6', '0.6', 'setosa'),\n ('5.1', '3.8', '1.9', '0.4', 'setosa'),\n ('4.8', '3', '1.4', '0.3', 'setosa'),\n ('5.1', '3.8', '1.6', '0.2', 'setosa'),\n ('4.6', '3.2', '1.4', '0.2', 'setosa'),\n ('5.3', '3.7', '1.5', '0.2', 'setosa'),\n ('5', '3.3', '1.4', '0.2', 'setosa'),\n ('7', '3.2', '4.7', '1.4', 'versicolor'),\n ('6.4', '3.2', '4.5', '1.5', 'versicolor'),\n ('6.9', '3.1', '4.9', '1.5', 'versicolor'),\n ('5.5', '2.3', '4', '1.3', 'versicolor'),\n ('6.5', '2.8', '4.6', '1.5', 'versicolor'),\n ('5.7', '2.8', '4.5', '1.3', 'versicolor'),\n ('6.3', '3.3', '4.7', '1.6', 'versicolor'),\n ('4.9', '2.4', '3.3', '1', 'versicolor'),\n ('6.6', '2.9', '4.6', '1.3', 'versicolor'),\n ('5.2', '2.7', '3.9', '1.4', 'versicolor'),\n ('5', '2', '3.5', '1', 'versicolor'),\n ('5.9', '3', '4.2', '1.5', 'versicolor'),\n ('6', '2.2', '4', '1', 'versicolor'),\n ('6.1', '2.9', '4.7', '1.4', 'versicolor'),\n ('5.6', '2.9', '3.6', '1.3', 'versicolor'),\n ('6.7', '3.1', '4.4', '1.4', 'versicolor'),\n ('5.6', '3', '4.5', '1.5', 'versicolor'),\n ('5.8', '2.7', '4.1', '1', 'versicolor'),\n ('6.2', '2.2', '4.5', '1.5', 'versicolor'),\n ('5.6', '2.5', '3.9', '1.1', 'versicolor'),\n ('5.9', '3.2', '4.8', '1.8', 'versicolor'),\n ('6.1', '2.8', '4', '1.3', 'versicolor'),\n ('6.3', '2.5', '4.9', '1.5', 'versicolor'),\n ('6.1', '2.8', '4.7', '1.2', 'versicolor'),\n ('6.4', '2.9', '4.3', '1.3', 'versicolor'),\n ('6.6', '3', '4.4', '1.4', 'versicolor'),\n ('6.8', '2.8', '4.8', '1.4', 'versicolor'),\n ('6.7', '3', '5', '1.7', 'versicolor'),\n ('6', '2.9', '4.5', '1.5', 'versicolor'),\n ('5.7', '2.6', '3.5', '1', 'versicolor'),\n ('5.5', '2.4', '3.8', '1.1', 'versicolor'),\n ('5.5', '2.4', '3.7', '1', 'versicolor'),\n ('5.8', '2.7', '3.9', '1.2', 'versicolor'),\n ('6', '2.7', '5.1', '1.6', 'versicolor'),\n ('5.4', '3', '4.5', '1.5', 'versicolor'),\n ('6', '3.4', '4.5', '1.6', 'versicolor'),\n ('6.7', '3.1', '4.7', '1.5', 'versicolor'),\n ('6.3', '2.3', '4.4', '1.3', 'versicolor'),\n ('5.6', '3', '4.1', '1.3', 'versicolor'),\n ('5.5', '2.5', '4', '1.3', 'versicolor'),\n ('5.5', '2.6', '4.4', '1.2', 'versicolor'),\n ('6.1', '3', '4.6', '1.4', 'versicolor'),\n ('5.8', '2.6', '4', '1.2', 'versicolor'),\n ('5', '2.3', '3.3', '1', 'versicolor'),\n ('5.6', '2.7', '4.2', '1.3', 'versicolor'),\n ('5.7', '3', '4.2', '1.2', 'versicolor'),\n ('5.7', '2.9', '4.2', '1.3', 'versicolor'),\n ('6.2', '2.9', '4.3', '1.3', 'versicolor'),\n ('5.1', '2.5', '3', '1.1', 'versicolor'),\n ('5.7', '2.8', '4.1', '1.3', 'versicolor'),\n ('6.3', '3.3', '6', '2.5', 'virginica'),\n ('5.8', '2.7', '5.1', '1.9', 'virginica'),\n ('7.1', '3', '5.9', '2.1', 'virginica'),\n ('6.3', '2.9', '5.6', '1.8', 'virginica'),\n ('6.5', '3', '5.8', '2.2', 'virginica'),\n ('7.6', '3', '6.6', '2.1', 'virginica'),\n ('4.9', '2.5', '4.5', '1.7', 'virginica'),\n ('7.3', '2.9', '6.3', '1.8', 'virginica'),\n ('6.7', '2.5', '5.8', '1.8', 'virginica'),\n ('7.2', '3.6', '6.1', '2.5', 'virginica'),\n ('6.5', '3.2', '5.1', '2', 'virginica'),\n ('6.4', '2.7', '5.3', '1.9', 'virginica'),\n ('6.8', '3', '5.5', '2.1', 'virginica'),\n ('5.7', '2.5', '5', '2', 'virginica'),\n ('5.8', '2.8', '5.1', '2.4', 'virginica'),\n ('6.4', '3.2', '5.3', '2.3', 'virginica'),\n ('6.5', '3', '5.5', '1.8', 'virginica'),\n ('7.7', '3.8', '6.7', '2.2', 'virginica'),\n ('7.7', '2.6', '6.9', '2.3', 'virginica'),\n ('6', '2.2', '5', '1.5', 'virginica'),\n ('6.9', '3.2', '5.7', '2.3', 'virginica'),\n ('5.6', '2.8', '4.9', '2', 'virginica'),\n ('7.7', '2.8', '6.7', '2', 'virginica'),\n ('6.3', '2.7', '4.9', '1.8', 'virginica'),\n ('6.7', '3.3', '5.7', '2.1', 'virginica'),\n ('7.2', '3.2', '6', '1.8', 'virginica'),\n ('6.2', '2.8', '4.8', '1.8', 'virginica'),\n ('6.1', '3', '4.9', '1.8', 'virginica'),\n ('6.4', '2.8', '5.6', '2.1', 'virginica'),\n ('7.2', '3', '5.8', '1.6', 'virginica'),\n ('7.4', '2.8', '6.1', '1.9', 'virginica'),\n ('7.9', '3.8', '6.4', '2', 'virginica'),\n ('6.4', '2.8', '5.6', '2.2', 'virginica'),\n ('6.3', '2.8', '5.1', '1.5', 'virginica'),\n ('6.1', '2.6', '5.6', '1.4', 'virginica'),\n ('7.7', '3', '6.1', '2.3', 'virginica'),\n ('6.3', '3.4', '5.6', '2.4', 'virginica'),\n ('6.4', '3.1', '5.5', '1.8', 'virginica'),\n ('6', '3', '4.8', '1.8', 'virginica'),\n ('6.9', '3.1', '5.4', '2.1', 'virginica'),\n ('6.7', '3.1', '5.6', '2.4', 'virginica'),\n ('6.9', '3.1', '5.1', '2.3', 'virginica'),\n ('5.8', '2.7', '5.1', '1.9', 'virginica'),\n ('6.8', '3.2', '5.9', '2.3', 'virginica'),\n ('6.7', '3.3', '5.7', '2.5', 'virginica'),\n ('6.7', '3', '5.2', '2.3', 'virginica'),\n ('6.3', '2.5', '5', '1.9', 'virginica'),\n ('6.5', '3', '5.2', '2', 'virginica'),\n ('6.2', '3.4', '5.4', '2.3', 'virginica'),\n ('5.9', '3', '5.1', '1.8', 'virginica')]"
     },
     "execution_count": 28,
     "metadata": {},
     "output_type": "execute_result"
    }
   ],
   "source": [
    "iris_list = []\n",
    "for row in iris_data:\n",
    "    iris_list.append(tuple(row[1:]))\n",
    "\n",
    "iris_list"
   ],
   "metadata": {
    "collapsed": false,
    "pycharm": {
     "name": "#%%\n"
    }
   }
  },
  {
   "cell_type": "markdown",
   "source": [
    "## 4.数据统计"
   ],
   "metadata": {
    "collapsed": false,
    "pycharm": {
     "name": "#%% md\n"
    }
   }
  },
  {
   "cell_type": "markdown",
   "source": [
    "### 1)创建数据类型"
   ],
   "metadata": {
    "collapsed": false,
    "pycharm": {
     "name": "#%% md\n"
    }
   }
  },
  {
   "cell_type": "code",
   "execution_count": 29,
   "outputs": [],
   "source": [
    "datatype = np.dtype([(\"Sepal.Length\",np.str_,40),\n",
    "                     (\"Sepal.Width\",np.str_,40),\n",
    "                     (\"Petal.Length\",np.str_,40),\n",
    "                     (\"Petal.Width\",np.str_,40),\n",
    "                     (\"Species\",np.str_,40)])\n",
    "# print(datatype)"
   ],
   "metadata": {
    "collapsed": false,
    "pycharm": {
     "name": "#%%\n"
    }
   }
  },
  {
   "cell_type": "markdown",
   "source": [
    "### 2)创建二维数组"
   ],
   "metadata": {
    "collapsed": false,
    "pycharm": {
     "name": "#%% md\n"
    }
   }
  },
  {
   "cell_type": "code",
   "execution_count": 30,
   "outputs": [
    {
     "data": {
      "text/plain": "array([('5.1', '3.5', '1.4', '0.2', 'setosa'),\n       ('4.9', '3', '1.4', '0.2', 'setosa'),\n       ('4.7', '3.2', '1.3', '0.2', 'setosa'),\n       ('4.6', '3.1', '1.5', '0.2', 'setosa'),\n       ('5', '3.6', '1.4', '0.2', 'setosa'),\n       ('5.4', '3.9', '1.7', '0.4', 'setosa'),\n       ('4.6', '3.4', '1.4', '0.3', 'setosa'),\n       ('5', '3.4', '1.5', '0.2', 'setosa'),\n       ('4.4', '2.9', '1.4', '0.2', 'setosa'),\n       ('4.9', '3.1', '1.5', '0.1', 'setosa'),\n       ('5.4', '3.7', '1.5', '0.2', 'setosa'),\n       ('4.8', '3.4', '1.6', '0.2', 'setosa'),\n       ('4.8', '3', '1.4', '0.1', 'setosa'),\n       ('4.3', '3', '1.1', '0.1', 'setosa'),\n       ('5.8', '4', '1.2', '0.2', 'setosa'),\n       ('5.7', '4.4', '1.5', '0.4', 'setosa'),\n       ('5.4', '3.9', '1.3', '0.4', 'setosa'),\n       ('5.1', '3.5', '1.4', '0.3', 'setosa'),\n       ('5.7', '3.8', '1.7', '0.3', 'setosa'),\n       ('5.1', '3.8', '1.5', '0.3', 'setosa'),\n       ('5.4', '3.4', '1.7', '0.2', 'setosa'),\n       ('5.1', '3.7', '1.5', '0.4', 'setosa'),\n       ('4.6', '3.6', '1', '0.2', 'setosa'),\n       ('5.1', '3.3', '1.7', '0.5', 'setosa'),\n       ('4.8', '3.4', '1.9', '0.2', 'setosa'),\n       ('5', '3', '1.6', '0.2', 'setosa'),\n       ('5', '3.4', '1.6', '0.4', 'setosa'),\n       ('5.2', '3.5', '1.5', '0.2', 'setosa'),\n       ('5.2', '3.4', '1.4', '0.2', 'setosa'),\n       ('4.7', '3.2', '1.6', '0.2', 'setosa'),\n       ('4.8', '3.1', '1.6', '0.2', 'setosa'),\n       ('5.4', '3.4', '1.5', '0.4', 'setosa'),\n       ('5.2', '4.1', '1.5', '0.1', 'setosa'),\n       ('5.5', '4.2', '1.4', '0.2', 'setosa'),\n       ('4.9', '3.1', '1.5', '0.2', 'setosa'),\n       ('5', '3.2', '1.2', '0.2', 'setosa'),\n       ('5.5', '3.5', '1.3', '0.2', 'setosa'),\n       ('4.9', '3.6', '1.4', '0.1', 'setosa'),\n       ('4.4', '3', '1.3', '0.2', 'setosa'),\n       ('5.1', '3.4', '1.5', '0.2', 'setosa'),\n       ('5', '3.5', '1.3', '0.3', 'setosa'),\n       ('4.5', '2.3', '1.3', '0.3', 'setosa'),\n       ('4.4', '3.2', '1.3', '0.2', 'setosa'),\n       ('5', '3.5', '1.6', '0.6', 'setosa'),\n       ('5.1', '3.8', '1.9', '0.4', 'setosa'),\n       ('4.8', '3', '1.4', '0.3', 'setosa'),\n       ('5.1', '3.8', '1.6', '0.2', 'setosa'),\n       ('4.6', '3.2', '1.4', '0.2', 'setosa'),\n       ('5.3', '3.7', '1.5', '0.2', 'setosa'),\n       ('5', '3.3', '1.4', '0.2', 'setosa'),\n       ('7', '3.2', '4.7', '1.4', 'versicolor'),\n       ('6.4', '3.2', '4.5', '1.5', 'versicolor'),\n       ('6.9', '3.1', '4.9', '1.5', 'versicolor'),\n       ('5.5', '2.3', '4', '1.3', 'versicolor'),\n       ('6.5', '2.8', '4.6', '1.5', 'versicolor'),\n       ('5.7', '2.8', '4.5', '1.3', 'versicolor'),\n       ('6.3', '3.3', '4.7', '1.6', 'versicolor'),\n       ('4.9', '2.4', '3.3', '1', 'versicolor'),\n       ('6.6', '2.9', '4.6', '1.3', 'versicolor'),\n       ('5.2', '2.7', '3.9', '1.4', 'versicolor'),\n       ('5', '2', '3.5', '1', 'versicolor'),\n       ('5.9', '3', '4.2', '1.5', 'versicolor'),\n       ('6', '2.2', '4', '1', 'versicolor'),\n       ('6.1', '2.9', '4.7', '1.4', 'versicolor'),\n       ('5.6', '2.9', '3.6', '1.3', 'versicolor'),\n       ('6.7', '3.1', '4.4', '1.4', 'versicolor'),\n       ('5.6', '3', '4.5', '1.5', 'versicolor'),\n       ('5.8', '2.7', '4.1', '1', 'versicolor'),\n       ('6.2', '2.2', '4.5', '1.5', 'versicolor'),\n       ('5.6', '2.5', '3.9', '1.1', 'versicolor'),\n       ('5.9', '3.2', '4.8', '1.8', 'versicolor'),\n       ('6.1', '2.8', '4', '1.3', 'versicolor'),\n       ('6.3', '2.5', '4.9', '1.5', 'versicolor'),\n       ('6.1', '2.8', '4.7', '1.2', 'versicolor'),\n       ('6.4', '2.9', '4.3', '1.3', 'versicolor'),\n       ('6.6', '3', '4.4', '1.4', 'versicolor'),\n       ('6.8', '2.8', '4.8', '1.4', 'versicolor'),\n       ('6.7', '3', '5', '1.7', 'versicolor'),\n       ('6', '2.9', '4.5', '1.5', 'versicolor'),\n       ('5.7', '2.6', '3.5', '1', 'versicolor'),\n       ('5.5', '2.4', '3.8', '1.1', 'versicolor'),\n       ('5.5', '2.4', '3.7', '1', 'versicolor'),\n       ('5.8', '2.7', '3.9', '1.2', 'versicolor'),\n       ('6', '2.7', '5.1', '1.6', 'versicolor'),\n       ('5.4', '3', '4.5', '1.5', 'versicolor'),\n       ('6', '3.4', '4.5', '1.6', 'versicolor'),\n       ('6.7', '3.1', '4.7', '1.5', 'versicolor'),\n       ('6.3', '2.3', '4.4', '1.3', 'versicolor'),\n       ('5.6', '3', '4.1', '1.3', 'versicolor'),\n       ('5.5', '2.5', '4', '1.3', 'versicolor'),\n       ('5.5', '2.6', '4.4', '1.2', 'versicolor'),\n       ('6.1', '3', '4.6', '1.4', 'versicolor'),\n       ('5.8', '2.6', '4', '1.2', 'versicolor'),\n       ('5', '2.3', '3.3', '1', 'versicolor'),\n       ('5.6', '2.7', '4.2', '1.3', 'versicolor'),\n       ('5.7', '3', '4.2', '1.2', 'versicolor'),\n       ('5.7', '2.9', '4.2', '1.3', 'versicolor'),\n       ('6.2', '2.9', '4.3', '1.3', 'versicolor'),\n       ('5.1', '2.5', '3', '1.1', 'versicolor'),\n       ('5.7', '2.8', '4.1', '1.3', 'versicolor'),\n       ('6.3', '3.3', '6', '2.5', 'virginica'),\n       ('5.8', '2.7', '5.1', '1.9', 'virginica'),\n       ('7.1', '3', '5.9', '2.1', 'virginica'),\n       ('6.3', '2.9', '5.6', '1.8', 'virginica'),\n       ('6.5', '3', '5.8', '2.2', 'virginica'),\n       ('7.6', '3', '6.6', '2.1', 'virginica'),\n       ('4.9', '2.5', '4.5', '1.7', 'virginica'),\n       ('7.3', '2.9', '6.3', '1.8', 'virginica'),\n       ('6.7', '2.5', '5.8', '1.8', 'virginica'),\n       ('7.2', '3.6', '6.1', '2.5', 'virginica'),\n       ('6.5', '3.2', '5.1', '2', 'virginica'),\n       ('6.4', '2.7', '5.3', '1.9', 'virginica'),\n       ('6.8', '3', '5.5', '2.1', 'virginica'),\n       ('5.7', '2.5', '5', '2', 'virginica'),\n       ('5.8', '2.8', '5.1', '2.4', 'virginica'),\n       ('6.4', '3.2', '5.3', '2.3', 'virginica'),\n       ('6.5', '3', '5.5', '1.8', 'virginica'),\n       ('7.7', '3.8', '6.7', '2.2', 'virginica'),\n       ('7.7', '2.6', '6.9', '2.3', 'virginica'),\n       ('6', '2.2', '5', '1.5', 'virginica'),\n       ('6.9', '3.2', '5.7', '2.3', 'virginica'),\n       ('5.6', '2.8', '4.9', '2', 'virginica'),\n       ('7.7', '2.8', '6.7', '2', 'virginica'),\n       ('6.3', '2.7', '4.9', '1.8', 'virginica'),\n       ('6.7', '3.3', '5.7', '2.1', 'virginica'),\n       ('7.2', '3.2', '6', '1.8', 'virginica'),\n       ('6.2', '2.8', '4.8', '1.8', 'virginica'),\n       ('6.1', '3', '4.9', '1.8', 'virginica'),\n       ('6.4', '2.8', '5.6', '2.1', 'virginica'),\n       ('7.2', '3', '5.8', '1.6', 'virginica'),\n       ('7.4', '2.8', '6.1', '1.9', 'virginica'),\n       ('7.9', '3.8', '6.4', '2', 'virginica'),\n       ('6.4', '2.8', '5.6', '2.2', 'virginica'),\n       ('6.3', '2.8', '5.1', '1.5', 'virginica'),\n       ('6.1', '2.6', '5.6', '1.4', 'virginica'),\n       ('7.7', '3', '6.1', '2.3', 'virginica'),\n       ('6.3', '3.4', '5.6', '2.4', 'virginica'),\n       ('6.4', '3.1', '5.5', '1.8', 'virginica'),\n       ('6', '3', '4.8', '1.8', 'virginica'),\n       ('6.9', '3.1', '5.4', '2.1', 'virginica'),\n       ('6.7', '3.1', '5.6', '2.4', 'virginica'),\n       ('6.9', '3.1', '5.1', '2.3', 'virginica'),\n       ('5.8', '2.7', '5.1', '1.9', 'virginica'),\n       ('6.8', '3.2', '5.9', '2.3', 'virginica'),\n       ('6.7', '3.3', '5.7', '2.5', 'virginica'),\n       ('6.7', '3', '5.2', '2.3', 'virginica'),\n       ('6.3', '2.5', '5', '1.9', 'virginica'),\n       ('6.5', '3', '5.2', '2', 'virginica'),\n       ('6.2', '3.4', '5.4', '2.3', 'virginica'),\n       ('5.9', '3', '5.1', '1.8', 'virginica')],\n      dtype=[('Sepal.Length', '<U40'), ('Sepal.Width', '<U40'), ('Petal.Length', '<U40'), ('Petal.Width', '<U40'), ('Species', '<U40')])"
     },
     "execution_count": 30,
     "metadata": {},
     "output_type": "execute_result"
    }
   ],
   "source": [
    "iris_data = np.array(iris_list,dtype = datatype)\n",
    "iris_data"
   ],
   "metadata": {
    "collapsed": false,
    "pycharm": {
     "name": "#%%\n"
    }
   }
  },
  {
   "cell_type": "markdown",
   "source": [
    "### 3)将待处理数据的类型转化为 float 类型"
   ],
   "metadata": {
    "collapsed": false,
    "pycharm": {
     "name": "#%% md\n"
    }
   }
  },
  {
   "cell_type": "code",
   "execution_count": 31,
   "outputs": [
    {
     "name": "stdout",
     "output_type": "stream",
     "text": [
      "[1.4 1.4 1.3 1.5 1.4 1.7 1.4 1.5 1.4 1.5 1.5 1.6 1.4 1.1 1.2 1.5 1.3 1.4\n",
      " 1.7 1.5 1.7 1.5 1.  1.7 1.9 1.6 1.6 1.5 1.4 1.6 1.6 1.5 1.5 1.4 1.5 1.2\n",
      " 1.3 1.4 1.3 1.5 1.3 1.3 1.3 1.6 1.9 1.4 1.6 1.4 1.5 1.4 4.7 4.5 4.9 4.\n",
      " 4.6 4.5 4.7 3.3 4.6 3.9 3.5 4.2 4.  4.7 3.6 4.4 4.5 4.1 4.5 3.9 4.8 4.\n",
      " 4.9 4.7 4.3 4.4 4.8 5.  4.5 3.5 3.8 3.7 3.9 5.1 4.5 4.5 4.7 4.4 4.1 4.\n",
      " 4.4 4.6 4.  3.3 4.2 4.2 4.2 4.3 3.  4.1 6.  5.1 5.9 5.6 5.8 6.6 4.5 6.3\n",
      " 5.8 6.1 5.1 5.3 5.5 5.  5.1 5.3 5.5 6.7 6.9 5.  5.7 4.9 6.7 4.9 5.7 6.\n",
      " 4.8 4.9 5.6 5.8 6.1 6.4 5.6 5.1 5.6 6.1 5.6 5.5 4.8 5.4 5.6 5.1 5.1 5.9\n",
      " 5.7 5.2 5.  5.2 5.4 5.1]\n"
     ]
    }
   ],
   "source": [
    "PetalLength = iris_data[\"Petal.Length\"].astype(float)\n",
    "print(PetalLength)"
   ],
   "metadata": {
    "collapsed": false,
    "pycharm": {
     "name": "#%%\n"
    }
   }
  },
  {
   "cell_type": "markdown",
   "source": [
    "### 4)排序"
   ],
   "metadata": {
    "collapsed": false,
    "pycharm": {
     "name": "#%% md\n"
    }
   }
  },
  {
   "cell_type": "code",
   "execution_count": 32,
   "metadata": {
    "collapsed": true,
    "pycharm": {
     "name": "#%%\n"
    }
   },
   "outputs": [
    {
     "data": {
      "text/plain": "array([1. , 1.1, 1.2, 1.2, 1.3, 1.3, 1.3, 1.3, 1.3, 1.3, 1.3, 1.4, 1.4,\n       1.4, 1.4, 1.4, 1.4, 1.4, 1.4, 1.4, 1.4, 1.4, 1.4, 1.4, 1.5, 1.5,\n       1.5, 1.5, 1.5, 1.5, 1.5, 1.5, 1.5, 1.5, 1.5, 1.5, 1.5, 1.6, 1.6,\n       1.6, 1.6, 1.6, 1.6, 1.6, 1.7, 1.7, 1.7, 1.7, 1.9, 1.9, 3. , 3.3,\n       3.3, 3.5, 3.5, 3.6, 3.7, 3.8, 3.9, 3.9, 3.9, 4. , 4. , 4. , 4. ,\n       4. , 4.1, 4.1, 4.1, 4.2, 4.2, 4.2, 4.2, 4.3, 4.3, 4.4, 4.4, 4.4,\n       4.4, 4.5, 4.5, 4.5, 4.5, 4.5, 4.5, 4.5, 4.5, 4.6, 4.6, 4.6, 4.7,\n       4.7, 4.7, 4.7, 4.7, 4.8, 4.8, 4.8, 4.8, 4.9, 4.9, 4.9, 4.9, 4.9,\n       5. , 5. , 5. , 5. , 5.1, 5.1, 5.1, 5.1, 5.1, 5.1, 5.1, 5.1, 5.2,\n       5.2, 5.3, 5.3, 5.4, 5.4, 5.5, 5.5, 5.5, 5.6, 5.6, 5.6, 5.6, 5.6,\n       5.6, 5.7, 5.7, 5.7, 5.8, 5.8, 5.8, 5.9, 5.9, 6. , 6. , 6.1, 6.1,\n       6.1, 6.3, 6.4, 6.6, 6.7, 6.7, 6.9])"
     },
     "execution_count": 32,
     "metadata": {},
     "output_type": "execute_result"
    }
   ],
   "source": [
    "np.sort(PetalLength)"
   ]
  },
  {
   "cell_type": "markdown",
   "source": [
    "### 5)数据去重"
   ],
   "metadata": {
    "collapsed": false,
    "pycharm": {
     "name": "#%% md\n"
    }
   }
  },
  {
   "cell_type": "code",
   "execution_count": 36,
   "outputs": [
    {
     "data": {
      "text/plain": "array([1. , 1.1, 1.2, 1.3, 1.4, 1.5, 1.6, 1.7, 1.9, 3. , 3.3, 3.5, 3.6,\n       3.7, 3.8, 3.9, 4. , 4.1, 4.2, 4.3, 4.4, 4.5, 4.6, 4.7, 4.8, 4.9,\n       5. , 5.1, 5.2, 5.3, 5.4, 5.5, 5.6, 5.7, 5.8, 5.9, 6. , 6.1, 6.3,\n       6.4, 6.6, 6.7, 6.9])"
     },
     "execution_count": 36,
     "metadata": {},
     "output_type": "execute_result"
    }
   ],
   "source": [
    "uni_PetalLength = np.unique(PetalLength)\n",
    "uni_PetalLength"
   ],
   "metadata": {
    "collapsed": false,
    "pycharm": {
     "name": "#%%\n"
    }
   }
  },
  {
   "cell_type": "markdown",
   "source": [
    "### 6)对指定列求和、均值、标准差、方差、最小值及最大值"
   ],
   "metadata": {
    "collapsed": false,
    "pycharm": {
     "name": "#%% md\n"
    }
   }
  },
  {
   "cell_type": "code",
   "execution_count": 41,
   "outputs": [
    {
     "name": "stdout",
     "output_type": "stream",
     "text": [
      "指定列的和： 563.7\n",
      "指定列的均值： 3.7580000000000005\n",
      "指定列的标准差： 1.759404065775303\n",
      "指定列的方差： 3.0955026666666665\n",
      "指定列的最小值： 1.0\n",
      "指定列的最大值： 6.9\n"
     ]
    }
   ],
   "source": [
    "# 和：\n",
    "sum_PL = np.sum(PetalLength)\n",
    "print(\"指定列的和：\",sum_PL)\n",
    "\n",
    "# 均值：\n",
    "mean_PL = np.mean(PetalLength)\n",
    "print(\"指定列的均值：\",mean_PL)\n",
    "\n",
    "# 标准差\n",
    "std_PL = np.std(PetalLength)\n",
    "print(\"指定列的标准差：\",std_PL)\n",
    "\n",
    "# 方差\n",
    "var_PL = np.var(PetalLength)\n",
    "print(\"指定列的方差：\",var_PL)\n",
    "\n",
    "# 最小值\n",
    "min_PL = min(PetalLength)\n",
    "print(\"指定列的最小值：\",min_PL)\n",
    "\n",
    "# 最大值\n",
    "max_PL = max(PetalLength)\n",
    "print(\"指定列的最大值：\",max_PL)"
   ],
   "metadata": {
    "collapsed": false,
    "pycharm": {
     "name": "#%%\n"
    }
   }
  }
 ],
 "metadata": {
  "kernelspec": {
   "display_name": "Python 3",
   "language": "python",
   "name": "python3"
  },
  "language_info": {
   "codemirror_mode": {
    "name": "ipython",
    "version": 2
   },
   "file_extension": ".py",
   "mimetype": "text/x-python",
   "name": "python",
   "nbconvert_exporter": "python",
   "pygments_lexer": "ipython2",
   "version": "2.7.6"
  }
 },
 "nbformat": 4,
 "nbformat_minor": 0
}