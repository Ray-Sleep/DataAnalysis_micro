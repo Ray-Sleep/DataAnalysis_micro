{
 "cells": [
  {
   "cell_type": "markdown",
   "source": [
    "# 3.常用的统计函数"
   ],
   "metadata": {
    "collapsed": false,
    "pycharm": {
     "name": "#%% md\n"
    }
   }
  },
  {
   "cell_type": "code",
   "execution_count": 1,
   "outputs": [],
   "source": [
    "import numpy as np"
   ],
   "metadata": {
    "collapsed": false,
    "pycharm": {
     "name": "#%%\n"
    }
   }
  },
  {
   "cell_type": "code",
   "execution_count": 2,
   "metadata": {
    "collapsed": true,
    "pycharm": {
     "name": "#%%\n"
    }
   },
   "outputs": [
    {
     "name": "stdout",
     "output_type": "stream",
     "text": [
      "创建的数组：\n",
      " [[ 0  1  2  3  4]\n",
      " [ 5  6  7  8  9]\n",
      " [10 11 12 13 14]\n",
      " [15 16 17 18 19]]\n",
      "数组的和： 190\n",
      "数组纵轴的和： [30 34 38 42 46]\n",
      "数组横轴的和： [10 35 60 85]\n",
      "数组的均值： 9.5\n",
      "数组横轴的均值： [ 2.  7. 12. 17.]\n",
      "数组的标准差： 5.766281297335398\n",
      "数组横轴的标准差： [1.41421356 1.41421356 1.41421356 1.41421356]\n"
     ]
    }
   ],
   "source": [
    "arr = np.arange(20).reshape(4,5)\n",
    "print('创建的数组：\\n',arr)\n",
    "\n",
    "print('数组的和：',np.sum(arr))\n",
    "\n",
    "print('数组纵轴的和：',np.sum(arr,axis= 0))\n",
    "\n",
    "print('数组横轴的和：',np.sum(arr,axis=1))\n",
    "\n",
    "print('数组的均值：',np.mean(arr))\n",
    "\n",
    "print('数组横轴的均值：',np.mean(arr,axis=1))\n",
    "\n",
    "print('数组的标准差：',np.std(arr))\n",
    "\n",
    "print('数组横轴的标准差：',np.std(arr,axis=1))"
   ]
  },
  {
   "cell_type": "markdown",
   "source": [],
   "metadata": {
    "collapsed": false,
    "pycharm": {
     "name": "#%% md\n"
    }
   }
  },
  {
   "cell_type": "code",
   "execution_count": null,
   "outputs": [],
   "source": [],
   "metadata": {
    "collapsed": false,
    "pycharm": {
     "name": "#%%\n"
    }
   }
  }
 ],
 "metadata": {
  "kernelspec": {
   "display_name": "Python 3",
   "language": "python",
   "name": "python3"
  },
  "language_info": {
   "codemirror_mode": {
    "name": "ipython",
    "version": 2
   },
   "file_extension": ".py",
   "mimetype": "text/x-python",
   "name": "python",
   "nbconvert_exporter": "python",
   "pygments_lexer": "ipython2",
   "version": "2.7.6"
  }
 },
 "nbformat": 4,
 "nbformat_minor": 0
}