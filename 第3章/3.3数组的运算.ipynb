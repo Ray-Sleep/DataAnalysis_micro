{
 "cells": [
  {
   "cell_type": "markdown",
   "source": [
    "数组的运算支持向量化运算，将本来需要在 Python级别进行的运算放到 C语言的运算中，会明显地提高程序地运算速度"
   ],
   "metadata": {
    "collapsed": false,
    "pycharm": {
     "name": "#%% md\n"
    }
   }
  },
  {
   "cell_type": "markdown",
   "source": [
    "# 1.数组和标量之间的运算"
   ],
   "metadata": {
    "collapsed": false,
    "pycharm": {
     "name": "#%% md\n"
    }
   }
  },
  {
   "cell_type": "code",
   "execution_count": 2,
   "metadata": {
    "collapsed": true,
    "pycharm": {
     "name": "#%%\n"
    }
   },
   "outputs": [],
   "source": [
    "import numpy as np"
   ]
  },
  {
   "cell_type": "code",
   "execution_count": 2,
   "outputs": [
    {
     "name": "stdout",
     "output_type": "stream",
     "text": [
      "b数组： [1, 4, 9]\n",
      "c数组： [2 4 6]\n"
     ]
    }
   ],
   "source": [
    "# 数组元素的追加\n",
    "a = [1,2,3]\n",
    "b = []\n",
    "for i in a:\n",
    "    b.append(i*i)\n",
    "print('b数组：',b)\n",
    "wy = np.array([1,2,3])\n",
    "c = wy * 2\n",
    "print('c数组：',c)"
   ],
   "metadata": {
    "collapsed": false,
    "pycharm": {
     "name": "#%%\n"
    }
   }
  },
  {
   "cell_type": "markdown",
   "source": [
    "# 2.ufunc函数"
   ],
   "metadata": {
    "collapsed": false,
    "pycharm": {
     "name": "#%% md\n"
    }
   }
  },
  {
   "cell_type": "markdown",
   "source": [
    "## 常用的 ufunc 函数运算\n",
    "常用的 ufunc 函数运算有四则运算、比较运算和逻辑运算"
   ],
   "metadata": {
    "collapsed": false,
    "pycharm": {
     "name": "#%% md\n"
    }
   }
  },
  {
   "cell_type": "code",
   "execution_count": 3,
   "outputs": [
    {
     "name": "stdout",
     "output_type": "stream",
     "text": [
      "数组相加结果∶ [5 7 9]\n",
      "数组相减结果∶ [-3 -3 -3]\n",
      "数组相乘结果∶ [ 4 10 18]\n",
      "数组幂运算结果∶ [  1  32 729]\n"
     ]
    }
   ],
   "source": [
    "# 数组的四则运算\n",
    "x = np.array([1,2,3])\n",
    "y = np.array([4,5,6])\n",
    "print('数组相加结果∶',x+y)\n",
    "print('数组相减结果∶',x-y)\n",
    "print('数组相乘结果∶',x*y)\n",
    "print('数组幂运算结果∶',x**y)"
   ],
   "metadata": {
    "collapsed": false,
    "pycharm": {
     "name": "#%%\n"
    }
   }
  },
  {
   "cell_type": "markdown",
   "source": [
    "## ufunc 函数的广播机制\n",
    "广播（broadcasting）是指不同形状的数组之间执行算术运算的方式。广播机制需要遵循4个原则∶\n",
    "（1）让所有输入数组都向其中shape最长的数组看齐，shape中不足的部分都通过在前面加1补齐。\n",
    "（2）输出数组的shape是输入数组shape的各个轴上的最大值。\n",
    "（3）如果输入数组的某个轴和输出数组的对应轴的长度相同或者其长度为1时，这个数组能够用来计算，否则出错。\n",
    "（4）当输入数组的某个轴的长度为1时，沿着此轴运算时都用此轴上的第一组值。\n"
   ],
   "metadata": {
    "collapsed": false,
    "pycharm": {
     "name": "#%% md\n"
    }
   }
  },
  {
   "cell_type": "code",
   "execution_count": 4,
   "outputs": [
    {
     "name": "stdout",
     "output_type": "stream",
     "text": [
      "arr1:\n",
      " [[0 0 0]\n",
      " [1 1 1]\n",
      " [2 2 2]]\n",
      "arr2:\n",
      " [1 2 3]\n",
      "arr1+arr2:\n",
      " [[1 2 3]\n",
      " [2 3 4]\n",
      " [3 4 5]]\n"
     ]
    }
   ],
   "source": [
    "arr1 = np.array([[0,0,0],[1,1,1],[2,2,2]])\n",
    "arr2 = np.array([1,2,3])\n",
    "print('arr1:\\n',arr1)\n",
    "print('arr2:\\n',arr2)\n",
    "print('arr1+arr2:\\n',arr1+arr2)"
   ],
   "metadata": {
    "collapsed": false,
    "pycharm": {
     "name": "#%%\n"
    }
   }
  },
  {
   "cell_type": "markdown",
   "source": [
    "# 3.条件逻辑运算\n",
    "在NumPy中可以使用基本的逻辑运算实现数组的条件运算。"
   ],
   "metadata": {
    "collapsed": false,
    "pycharm": {
     "name": "#%% md\n"
    }
   }
  },
  {
   "cell_type": "code",
   "execution_count": 7,
   "outputs": [
    {
     "name": "stdout",
     "output_type": "stream",
     "text": [
      "[1 4 5 8]\n"
     ]
    }
   ],
   "source": [
    "# 如果满足条件 输出 x：不满足则输出 y\n",
    "\n",
    "arr1 = np.array([1,3,5,7])\n",
    "arr2 = np.array([2,4,6,8])\n",
    "cond = np.array([True,False,True,False])\n",
    "result = np.where(cond,arr1,arr2)\n",
    "print(result)"
   ],
   "metadata": {
    "collapsed": false,
    "pycharm": {
     "name": "#%%\n"
    }
   }
  },
  {
   "cell_type": "markdown",
   "source": [
    "# 4.数组读/写"
   ],
   "metadata": {
    "collapsed": false,
    "pycharm": {
     "name": "#%% md\n"
    }
   }
  },
  {
   "cell_type": "markdown",
   "source": [
    "##  读/写二进制文件\n",
    "NumPy提供了多种文件操作函数存取数组内容。文件存取的格式分为两类∶二进制和文本。二进制格式的文件又分为NumPy专用的格式化二进制类型和无格式类型。NumPy中读/写二进制文件的方法有以下两种。\n",
    "（1）NumPy.load（\"文件名.npy\"）∶从二进制的文件中读取数据。\n",
    "（2）NumPy.save（\"文件名\\[.npy]\"，arr）∶以二进制的格式保存数据。\n",
    "它们会自动处理元素类型和shape等信息，使用它们读/写数组就非常方便。但是np.save 输出的文件很难用其他语言编写的程序读入。"
   ],
   "metadata": {
    "collapsed": false,
    "pycharm": {
     "name": "#%% md\n"
    }
   }
  },
  {
   "cell_type": "code",
   "execution_count": 10,
   "outputs": [
    {
     "name": "stdout",
     "output_type": "stream",
     "text": [
      "[[ 1  2  3  4]\n",
      " [ 5  6  7  8]\n",
      " [ 9 10 11 12]]\n",
      "[[ 1  2  3  4]\n",
      " [ 5  6  7  8]\n",
      " [ 9 10 11 12]]\n"
     ]
    }
   ],
   "source": [
    "# 数组的读/写\n",
    "a = np.arange(1,13).reshape(3,4)\n",
    "print(a)\n",
    "np.save('arr.npy',a)\n",
    "c = np.load('arr.npy')\n",
    "print(c)"
   ],
   "metadata": {
    "collapsed": false,
    "pycharm": {
     "name": "#%%\n"
    }
   }
  },
  {
   "cell_type": "markdown",
   "source": [
    "## 读/写文本文件\n",
    "NumPy 中读/写文本文件的主要方法有以下几种。\n",
    "（1）NumPy.loadtxt(\"./tmp/arr.txt\",delimiter=\",\")∶把文件加载到一个二维数组中。\n",
    "（2）NumPy.savetxt(\"../tmp/arr.txt\",arr，fmt=\"%d\",delimiter=\",\")∶将数组写到某种分隔符隔开的文本文件中。\n",
    "（3）NumPy.genfromtxt(\"./tmp/arr.txt\",delimiter=\",\")∶结构化数组和缺失数据。\n"
   ],
   "metadata": {
    "collapsed": false,
    "pycharm": {
     "name": "#%% md\n"
    }
   }
  },
  {
   "cell_type": "code",
   "execution_count": 11,
   "outputs": [
    {
     "data": {
      "text/plain": "array([[ 0.,  0.,  1.,  1.,  2.,  2.],\n       [ 3.,  3.,  4.,  4.,  5.,  5.],\n       [ 6.,  6.,  7.,  7.,  8.,  8.],\n       [ 9.,  9., 10., 10., 11., 11.]])"
     },
     "execution_count": 11,
     "metadata": {},
     "output_type": "execute_result"
    }
   ],
   "source": [
    "a = np.arange(0,12,0.5).reshape(4,-1)\n",
    "np.savetxt(\"a1-out.txt\",a)\n",
    "# 默认按照 '%.18e' 格式保存数值\n",
    "np.loadtxt(\"a1-out.txt\")\n",
    "np.savetxt('a2-out.txt',a,fmt='%d',delimiter= \",\")\n",
    "# 改为保存为整数，以逗号分隔\n",
    "\n",
    "np.loadtxt('a2-out.txt',delimiter=',')\n",
    "# 读入的时候也需要指定逗号分隔"
   ],
   "metadata": {
    "collapsed": false,
    "pycharm": {
     "name": "#%%\n"
    }
   }
  },
  {
   "cell_type": "markdown",
   "source": [
    "## 读取 CSV 文件\n"
   ],
   "metadata": {
    "collapsed": false,
    "pycharm": {
     "name": "#%% md\n"
    }
   }
  },
  {
   "cell_type": "code",
   "execution_count": null,
   "outputs": [],
   "source": [],
   "metadata": {
    "collapsed": false,
    "pycharm": {
     "name": "#%%\n"
    }
   }
  }
 ],
 "metadata": {
  "kernelspec": {
   "display_name": "Python 3",
   "language": "python",
   "name": "python3"
  },
  "language_info": {
   "codemirror_mode": {
    "name": "ipython",
    "version": 2
   },
   "file_extension": ".py",
   "mimetype": "text/x-python",
   "name": "python",
   "nbconvert_exporter": "python",
   "pygments_lexer": "ipython2",
   "version": "2.7.6"
  }
 },
 "nbformat": 4,
 "nbformat_minor": 0
}