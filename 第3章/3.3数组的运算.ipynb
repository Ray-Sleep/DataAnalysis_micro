{
 "cells": [
  {
   "cell_type": "markdown",
   "source": [
    "数组的运算支持向量化运算，将本来需要在 Python级别进行的运算放到 C语言的运算中，会明显地提高程序地运算速度"
   ],
   "metadata": {
    "collapsed": false,
    "pycharm": {
     "name": "#%% md\n"
    }
   }
  },
  {
   "cell_type": "markdown",
   "source": [
    "# 1.数组和标量之间的运算"
   ],
   "metadata": {
    "collapsed": false,
    "pycharm": {
     "name": "#%% md\n"
    }
   }
  },
  {
   "cell_type": "code",
   "execution_count": 1,
   "metadata": {
    "collapsed": true,
    "pycharm": {
     "name": "#%%\n"
    }
   },
   "outputs": [],
   "source": [
    "import numpy as np"
   ]
  },
  {
   "cell_type": "code",
   "execution_count": 2,
   "outputs": [
    {
     "name": "stdout",
     "output_type": "stream",
     "text": [
      "b数组： [1, 4, 9]\n",
      "c数组： [2 4 6]\n"
     ]
    }
   ],
   "source": [
    "# 数组元素的追加\n",
    "a = [1,2,3]\n",
    "b = []\n",
    "for i in a:\n",
    "    b.append(i*i)\n",
    "print('b数组：',b)\n",
    "wy = np.array([1,2,3])\n",
    "c = wy * 2\n",
    "print('c数组：',c)"
   ],
   "metadata": {
    "collapsed": false,
    "pycharm": {
     "name": "#%%\n"
    }
   }
  },
  {
   "cell_type": "markdown",
   "source": [
    "# 2.ufunc函数"
   ],
   "metadata": {
    "collapsed": false,
    "pycharm": {
     "name": "#%% md\n"
    }
   }
  },
  {
   "cell_type": "markdown",
   "source": [
    "## 常用的 ufunc 函数运算\n",
    "常用的 ufunc 函数运算有四则运算、比较运算和逻辑运算"
   ],
   "metadata": {
    "collapsed": false,
    "pycharm": {
     "name": "#%% md\n"
    }
   }
  },
  {
   "cell_type": "code",
   "execution_count": 3,
   "outputs": [
    {
     "name": "stdout",
     "output_type": "stream",
     "text": [
      "数组相加结果∶ [5 7 9]\n",
      "数组相减结果∶ [-3 -3 -3]\n",
      "数组相乘结果∶ [ 4 10 18]\n",
      "数组幂运算结果∶ [  1  32 729]\n"
     ]
    }
   ],
   "source": [
    "# 数组的四则运算\n",
    "x = np.array([1,2,3])\n",
    "y = np.array([4,5,6])\n",
    "print('数组相加结果∶',x+y)\n",
    "print('数组相减结果∶',x-y)\n",
    "print('数组相乘结果∶',x*y)\n",
    "print('数组幂运算结果∶',x**y)"
   ],
   "metadata": {
    "collapsed": false,
    "pycharm": {
     "name": "#%%\n"
    }
   }
  },
  {
   "cell_type": "markdown",
   "source": [
    "## ufunc 函数的广播机制\n",
    "广播（broadcasting）是指不同形状的数组之间执行算术运算的方式。广播机制需要遵循4个原则∶\n",
    "（1）让所有输入数组都向其中shape最长的数组看齐，shape中不足的部分都通过在前面加1补齐。\n",
    "（2）输出数组的shape是输入数组shape的各个轴上的最大值。\n",
    "（3）如果输入数组的某个轴和输出数组的对应轴的长度相同或者其长度为1时，这个数组能够用来计算，否则出错。\n",
    "（4）当输入数组的某个轴的长度为1时，沿着此轴运算时都用此轴上的第一组值。\n"
   ],
   "metadata": {
    "collapsed": false,
    "pycharm": {
     "name": "#%% md\n"
    }
   }
  },
  {
   "cell_type": "code",
   "execution_count": 4,
   "outputs": [
    {
     "name": "stdout",
     "output_type": "stream",
     "text": [
      "arr1:\n",
      " [[0 0 0]\n",
      " [1 1 1]\n",
      " [2 2 2]]\n",
      "arr2:\n",
      " [1 2 3]\n",
      "arr1+arr2:\n",
      " [[1 2 3]\n",
      " [2 3 4]\n",
      " [3 4 5]]\n"
     ]
    }
   ],
   "source": [
    "arr1 = np.array([[0,0,0],[1,1,1],[2,2,2]])\n",
    "arr2 = np.array([1,2,3])\n",
    "print('arr1:\\n',arr1)\n",
    "print('arr2:\\n',arr2)\n",
    "print('arr1+arr2:\\n',arr1+arr2)"
   ],
   "metadata": {
    "collapsed": false,
    "pycharm": {
     "name": "#%%\n"
    }
   }
  },
  {
   "cell_type": "markdown",
   "source": [
    "# 3.条件逻辑运算\n",
    "在NumPy中可以使用基本的逻辑运算实现数组的条件运算。"
   ],
   "metadata": {
    "collapsed": false,
    "pycharm": {
     "name": "#%% md\n"
    }
   }
  },
  {
   "cell_type": "code",
   "execution_count": null,
   "outputs": [],
   "source": [],
   "metadata": {
    "collapsed": false,
    "pycharm": {
     "name": "#%%\n"
    }
   }
  }
 ],
 "metadata": {
  "kernelspec": {
   "display_name": "Python 3",
   "language": "python",
   "name": "python3"
  },
  "language_info": {
   "codemirror_mode": {
    "name": "ipython",
    "version": 2
   },
   "file_extension": ".py",
   "mimetype": "text/x-python",
   "name": "python",
   "nbconvert_exporter": "python",
   "pygments_lexer": "ipython2",
   "version": "2.7.6"
  }
 },
 "nbformat": 4,
 "nbformat_minor": 0
}