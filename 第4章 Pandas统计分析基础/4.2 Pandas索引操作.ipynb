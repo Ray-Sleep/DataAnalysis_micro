{
 "cells": [
  {
   "cell_type": "markdown",
   "source": [
    "# 1.重建索引\n",
    "索引对象是无法修改的，因此，重建索引是指对索引重新排序而不是重新命名，如果某个索引值不存在的话，会引入缺失值。"
   ],
   "metadata": {
    "collapsed": false,
    "pycharm": {
     "name": "#%% md\n"
    }
   }
  },
  {
   "cell_type": "code",
   "execution_count": 1,
   "outputs": [
    {
     "name": "stdout",
     "output_type": "stream",
     "text": [
      "b    7.2\n",
      "a   -4.3\n",
      "d    4.5\n",
      "c    3.6\n",
      "dtype: float64\n"
     ]
    },
    {
     "data": {
      "text/plain": "a   -4.3\nb    7.2\nc    3.6\nd    4.5\ne    NaN\ndtype: float64"
     },
     "execution_count": 1,
     "metadata": {},
     "output_type": "execute_result"
    }
   ],
   "source": [
    "import pandas as pd\n",
    "\n",
    "obj = pd.Series([7.2,-4.3,4.5,3.6],index=['b','a','d','c'])\n",
    "print(obj)\n",
    "obj.reindex(['a','b','c','d','e'])"
   ],
   "metadata": {
    "collapsed": false,
    "pycharm": {
     "name": "#%%\n"
    }
   }
  },
  {
   "cell_type": "markdown",
   "source": [
    "对于重建索引引入的缺陷值，可以使用 fill_value 参数填充"
   ],
   "metadata": {
    "collapsed": false,
    "pycharm": {
     "name": "#%% md\n"
    }
   }
  },
  {
   "cell_type": "code",
   "execution_count": 3,
   "outputs": [
    {
     "data": {
      "text/plain": "a   -4.3\nb    7.2\nc    3.6\nd    4.5\ne    0.0\ndtype: float64"
     },
     "execution_count": 3,
     "metadata": {},
     "output_type": "execute_result"
    }
   ],
   "source": [
    "# 重建索引时填充缺失值\n",
    "obj.reindex(['a','b','c','d','e'],fill_value=0)"
   ],
   "metadata": {
    "collapsed": false,
    "pycharm": {
     "name": "#%%\n"
    }
   }
  },
  {
   "cell_type": "markdown",
   "source": [
    "对于顺序数据，例如时间序列，重建索引时可能需要进行 插值 或 填值处理 ，使用参数 method 选项可以设置\n",
    "method = 'ffill' 或 'pad'        表示前向值填充\n",
    "         'bfill' 或 'backfill'   表示后向值填充"
   ],
   "metadata": {
    "collapsed": false,
    "pycharm": {
     "name": "#%% md\n"
    }
   }
  },
  {
   "cell_type": "code",
   "execution_count": 4,
   "outputs": [
    {
     "data": {
      "text/plain": "0     blue\n1     blue\n2      red\n3      red\n4    black\n5    black\ndtype: object"
     },
     "execution_count": 4,
     "metadata": {},
     "output_type": "execute_result"
    }
   ],
   "source": [
    "# 缺失值的前向填充\n",
    "import numpy as np\n",
    "obj1 = pd.Series(['blue','red','black'],index=[0,2,4])\n",
    "obj1.reindex(np.arange(6),method='ffill')\n",
    "\n",
    "# 后向填充同理"
   ],
   "metadata": {
    "collapsed": false,
    "pycharm": {
     "name": "#%%\n"
    }
   }
  },
  {
   "cell_type": "markdown",
   "source": [
    "对于DataFrame，reindex可以修改（行）索引、列，或两个都修改。如果仅传入一个序列，则结果中的行会重建索引。"
   ],
   "metadata": {
    "collapsed": false,
    "pycharm": {
     "name": "#%% md\n"
    }
   }
  },
  {
   "cell_type": "code",
   "execution_count": 8,
   "outputs": [
    {
     "name": "stdout",
     "output_type": "stream",
     "text": [
      "   one  two  four\n",
      "a    0    1     2\n",
      "c    3    4     5\n",
      "d    6    7     8\n"
     ]
    }
   ],
   "source": [
    "# DataFrame 数据\n",
    "df4 = pd.DataFrame(np.arange(9).reshape(3,3),index=['a','c','d'],columns=['one','two','four'])\n",
    "print(df4)\n",
    "\n",
    "# 默认对索引重新排序"
   ],
   "metadata": {
    "collapsed": false,
    "pycharm": {
     "name": "#%%\n"
    }
   }
  },
  {
   "cell_type": "code",
   "execution_count": 9,
   "outputs": [
    {
     "data": {
      "text/plain": "   one  two  three  four\na  0.0  1.0    NaN   2.0\nb  NaN  NaN    NaN   NaN\nc  3.0  4.0    NaN   5.0\nd  6.0  7.0    NaN   8.0",
      "text/html": "<div>\n<style scoped>\n    .dataframe tbody tr th:only-of-type {\n        vertical-align: middle;\n    }\n\n    .dataframe tbody tr th {\n        vertical-align: top;\n    }\n\n    .dataframe thead th {\n        text-align: right;\n    }\n</style>\n<table border=\"1\" class=\"dataframe\">\n  <thead>\n    <tr style=\"text-align: right;\">\n      <th></th>\n      <th>one</th>\n      <th>two</th>\n      <th>three</th>\n      <th>four</th>\n    </tr>\n  </thead>\n  <tbody>\n    <tr>\n      <th>a</th>\n      <td>0.0</td>\n      <td>1.0</td>\n      <td>NaN</td>\n      <td>2.0</td>\n    </tr>\n    <tr>\n      <th>b</th>\n      <td>NaN</td>\n      <td>NaN</td>\n      <td>NaN</td>\n      <td>NaN</td>\n    </tr>\n    <tr>\n      <th>c</th>\n      <td>3.0</td>\n      <td>4.0</td>\n      <td>NaN</td>\n      <td>5.0</td>\n    </tr>\n    <tr>\n      <th>d</th>\n      <td>6.0</td>\n      <td>7.0</td>\n      <td>NaN</td>\n      <td>8.0</td>\n    </tr>\n  </tbody>\n</table>\n</div>"
     },
     "execution_count": 9,
     "metadata": {},
     "output_type": "execute_result"
    }
   ],
   "source": [
    "# reindex 操作\n",
    "df4.reindex(index=['a','b','c','d'],columns=['one','two','three','four'])\n",
    "\n",
    "# 注：此操作建立在前一步的df4之上"
   ],
   "metadata": {
    "collapsed": false,
    "pycharm": {
     "name": "#%%\n"
    }
   }
  },
  {
   "cell_type": "code",
   "execution_count": null,
   "outputs": [],
   "source": [],
   "metadata": {
    "collapsed": false,
    "pycharm": {
     "name": "#%%\n"
    }
   }
  }
 ],
 "metadata": {
  "kernelspec": {
   "display_name": "Python 3",
   "language": "python",
   "name": "python3"
  },
  "language_info": {
   "codemirror_mode": {
    "name": "ipython",
    "version": 2
   },
   "file_extension": ".py",
   "mimetype": "text/x-python",
   "name": "python",
   "nbconvert_exporter": "python",
   "pygments_lexer": "ipython2",
   "version": "2.7.6"
  }
 },
 "nbformat": 4,
 "nbformat_minor": 0
}