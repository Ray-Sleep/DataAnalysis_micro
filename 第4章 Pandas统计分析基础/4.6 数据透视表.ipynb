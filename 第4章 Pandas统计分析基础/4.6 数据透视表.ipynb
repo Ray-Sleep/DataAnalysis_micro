{
 "cells": [
  {
   "cell_type": "code",
   "execution_count": 2,
   "outputs": [],
   "source": [
    "import pandas as pd\n",
    "import numpy as np"
   ],
   "metadata": {
    "collapsed": false,
    "pycharm": {
     "name": "#%%\n"
    }
   }
  },
  {
   "cell_type": "markdown",
   "source": [
    "数据透视表（Pivot Table）是数据分析中常见的工具之一，根据一个或多个键值对数据进行聚合，根据列或行的分组键将数据划分到各个区域。"
   ],
   "metadata": {
    "collapsed": false,
    "pycharm": {
     "name": "#%% md\n"
    }
   }
  },
  {
   "cell_type": "markdown",
   "source": [
    "# 1.透视表\n"
   ],
   "metadata": {
    "collapsed": false,
    "pycharm": {
     "name": "#%% md\n"
    }
   }
  },
  {
   "cell_type": "code",
   "execution_count": 3,
   "outputs": [
    {
     "name": "stdout",
     "output_type": "stream",
     "text": [
      "   k1     k2         w         y\n",
      "0   a    one  0.226925 -0.415272\n",
      "1   b    two  0.485766 -0.684052\n",
      "2   a  three  0.998366 -0.547818\n",
      "3   a    two  0.727411  0.317440\n",
      "4   c    one  0.345570  0.422559\n",
      "5   c    one  0.441748 -1.364205\n",
      "6   b  three  0.527135 -0.884174\n",
      "7   a    one  0.120490 -1.228491\n",
      "8   c    two  0.607020 -1.682070\n",
      "9   a  three  0.591658  0.607673\n",
      "10  b    one  0.023575 -0.799248\n",
      "11  c    two  0.630044  0.968881\n"
     ]
    },
    {
     "data": {
      "text/plain": "           w                             y                    \nk2       one     three       two       one     three       two\nk1                                                            \na   0.173707  0.795012  0.727411 -0.821882  0.029928  0.317440\nb   0.023575  0.527135  0.485766 -0.799248 -0.884174 -0.684052\nc   0.393659       NaN  0.618532 -0.470823       NaN -0.356594",
      "text/html": "<div>\n<style scoped>\n    .dataframe tbody tr th:only-of-type {\n        vertical-align: middle;\n    }\n\n    .dataframe tbody tr th {\n        vertical-align: top;\n    }\n\n    .dataframe thead tr th {\n        text-align: left;\n    }\n\n    .dataframe thead tr:last-of-type th {\n        text-align: right;\n    }\n</style>\n<table border=\"1\" class=\"dataframe\">\n  <thead>\n    <tr>\n      <th></th>\n      <th colspan=\"3\" halign=\"left\">w</th>\n      <th colspan=\"3\" halign=\"left\">y</th>\n    </tr>\n    <tr>\n      <th>k2</th>\n      <th>one</th>\n      <th>three</th>\n      <th>two</th>\n      <th>one</th>\n      <th>three</th>\n      <th>two</th>\n    </tr>\n    <tr>\n      <th>k1</th>\n      <th></th>\n      <th></th>\n      <th></th>\n      <th></th>\n      <th></th>\n      <th></th>\n    </tr>\n  </thead>\n  <tbody>\n    <tr>\n      <th>a</th>\n      <td>0.173707</td>\n      <td>0.795012</td>\n      <td>0.727411</td>\n      <td>-0.821882</td>\n      <td>0.029928</td>\n      <td>0.317440</td>\n    </tr>\n    <tr>\n      <th>b</th>\n      <td>0.023575</td>\n      <td>0.527135</td>\n      <td>0.485766</td>\n      <td>-0.799248</td>\n      <td>-0.884174</td>\n      <td>-0.684052</td>\n    </tr>\n    <tr>\n      <th>c</th>\n      <td>0.393659</td>\n      <td>NaN</td>\n      <td>0.618532</td>\n      <td>-0.470823</td>\n      <td>NaN</td>\n      <td>-0.356594</td>\n    </tr>\n  </tbody>\n</table>\n</div>"
     },
     "execution_count": 3,
     "metadata": {},
     "output_type": "execute_result"
    }
   ],
   "source": [
    "# pivot_table 默认计算均值\n",
    "data = pd.DataFrame({'k1':['a','b','a','a','c','c','b','a','c','a','b','c'],\n",
    "                     'k2':['one','two','three','two','one','one','three','one','two','three','one','two'],\n",
    "                     'w':np.random.rand(12),'y':np.random.randn(12)})\n",
    "print(data)\n",
    "data.pivot_table(index='k1',columns='k2')"
   ],
   "metadata": {
    "collapsed": false,
    "pycharm": {
     "name": "#%%\n"
    }
   }
  },
  {
   "cell_type": "code",
   "execution_count": 4,
   "outputs": [
    {
     "data": {
      "text/plain": "           w                             y                    \nk2       one     three       two       one     three       two\nk1                                                            \na   0.347415  1.590024  0.727411 -1.643763  0.059856  0.317440\nb   0.023575  0.527135  0.485766 -0.799248 -0.884174 -0.684052\nc   0.787318       NaN  1.237063 -0.941646       NaN -0.713189",
      "text/html": "<div>\n<style scoped>\n    .dataframe tbody tr th:only-of-type {\n        vertical-align: middle;\n    }\n\n    .dataframe tbody tr th {\n        vertical-align: top;\n    }\n\n    .dataframe thead tr th {\n        text-align: left;\n    }\n\n    .dataframe thead tr:last-of-type th {\n        text-align: right;\n    }\n</style>\n<table border=\"1\" class=\"dataframe\">\n  <thead>\n    <tr>\n      <th></th>\n      <th colspan=\"3\" halign=\"left\">w</th>\n      <th colspan=\"3\" halign=\"left\">y</th>\n    </tr>\n    <tr>\n      <th>k2</th>\n      <th>one</th>\n      <th>three</th>\n      <th>two</th>\n      <th>one</th>\n      <th>three</th>\n      <th>two</th>\n    </tr>\n    <tr>\n      <th>k1</th>\n      <th></th>\n      <th></th>\n      <th></th>\n      <th></th>\n      <th></th>\n      <th></th>\n    </tr>\n  </thead>\n  <tbody>\n    <tr>\n      <th>a</th>\n      <td>0.347415</td>\n      <td>1.590024</td>\n      <td>0.727411</td>\n      <td>-1.643763</td>\n      <td>0.059856</td>\n      <td>0.317440</td>\n    </tr>\n    <tr>\n      <th>b</th>\n      <td>0.023575</td>\n      <td>0.527135</td>\n      <td>0.485766</td>\n      <td>-0.799248</td>\n      <td>-0.884174</td>\n      <td>-0.684052</td>\n    </tr>\n    <tr>\n      <th>c</th>\n      <td>0.787318</td>\n      <td>NaN</td>\n      <td>1.237063</td>\n      <td>-0.941646</td>\n      <td>NaN</td>\n      <td>-0.713189</td>\n    </tr>\n  </tbody>\n</table>\n</div>"
     },
     "execution_count": 4,
     "metadata": {},
     "output_type": "execute_result"
    }
   ],
   "source": [
    "# 分类汇总并求和\n",
    "data.pivot_table(index = 'k1',columns='k2',aggfunc='sum')"
   ],
   "metadata": {
    "collapsed": false,
    "pycharm": {
     "name": "#%%\n"
    }
   }
  },
  {
   "cell_type": "markdown",
   "source": [
    "# 2.交叉表\n"
   ],
   "metadata": {
    "collapsed": false,
    "pycharm": {
     "name": "#%% md\n"
    }
   }
  },
  {
   "cell_type": "code",
   "execution_count": 5,
   "outputs": [
    {
     "data": {
      "text/plain": "k2  one  three  two\nk1                 \na     2      2    1\nb     1      1    1\nc     2      0    2",
      "text/html": "<div>\n<style scoped>\n    .dataframe tbody tr th:only-of-type {\n        vertical-align: middle;\n    }\n\n    .dataframe tbody tr th {\n        vertical-align: top;\n    }\n\n    .dataframe thead th {\n        text-align: right;\n    }\n</style>\n<table border=\"1\" class=\"dataframe\">\n  <thead>\n    <tr style=\"text-align: right;\">\n      <th>k2</th>\n      <th>one</th>\n      <th>three</th>\n      <th>two</th>\n    </tr>\n    <tr>\n      <th>k1</th>\n      <th></th>\n      <th></th>\n      <th></th>\n    </tr>\n  </thead>\n  <tbody>\n    <tr>\n      <th>a</th>\n      <td>2</td>\n      <td>2</td>\n      <td>1</td>\n    </tr>\n    <tr>\n      <th>b</th>\n      <td>1</td>\n      <td>1</td>\n      <td>1</td>\n    </tr>\n    <tr>\n      <th>c</th>\n      <td>2</td>\n      <td>0</td>\n      <td>2</td>\n    </tr>\n  </tbody>\n</table>\n</div>"
     },
     "execution_count": 5,
     "metadata": {},
     "output_type": "execute_result"
    }
   ],
   "source": [
    "pd.crosstab(data.k1,data.k2)"
   ],
   "metadata": {
    "collapsed": false,
    "pycharm": {
     "name": "#%%\n"
    }
   }
  },
  {
   "cell_type": "code",
   "execution_count": 6,
   "outputs": [
    {
     "data": {
      "text/plain": "k2   one  three  two  All\nk1                       \na      2      2    1    5\nb      1      1    1    3\nc      2      0    2    4\nAll    5      3    4   12",
      "text/html": "<div>\n<style scoped>\n    .dataframe tbody tr th:only-of-type {\n        vertical-align: middle;\n    }\n\n    .dataframe tbody tr th {\n        vertical-align: top;\n    }\n\n    .dataframe thead th {\n        text-align: right;\n    }\n</style>\n<table border=\"1\" class=\"dataframe\">\n  <thead>\n    <tr style=\"text-align: right;\">\n      <th>k2</th>\n      <th>one</th>\n      <th>three</th>\n      <th>two</th>\n      <th>All</th>\n    </tr>\n    <tr>\n      <th>k1</th>\n      <th></th>\n      <th></th>\n      <th></th>\n      <th></th>\n    </tr>\n  </thead>\n  <tbody>\n    <tr>\n      <th>a</th>\n      <td>2</td>\n      <td>2</td>\n      <td>1</td>\n      <td>5</td>\n    </tr>\n    <tr>\n      <th>b</th>\n      <td>1</td>\n      <td>1</td>\n      <td>1</td>\n      <td>3</td>\n    </tr>\n    <tr>\n      <th>c</th>\n      <td>2</td>\n      <td>0</td>\n      <td>2</td>\n      <td>4</td>\n    </tr>\n    <tr>\n      <th>All</th>\n      <td>5</td>\n      <td>3</td>\n      <td>4</td>\n      <td>12</td>\n    </tr>\n  </tbody>\n</table>\n</div>"
     },
     "execution_count": 6,
     "metadata": {},
     "output_type": "execute_result"
    }
   ],
   "source": [
    "pd.crosstab(data.k1,data.k2,margins= True)"
   ],
   "metadata": {
    "collapsed": false,
    "pycharm": {
     "name": "#%%\n"
    }
   }
  },
  {
   "cell_type": "markdown",
   "source": [],
   "metadata": {
    "collapsed": false,
    "pycharm": {
     "name": "#%% md\n"
    }
   }
  },
  {
   "cell_type": "code",
   "execution_count": null,
   "outputs": [],
   "source": [],
   "metadata": {
    "collapsed": false,
    "pycharm": {
     "name": "#%%\n"
    }
   }
  },
  {
   "cell_type": "code",
   "execution_count": null,
   "outputs": [],
   "source": [],
   "metadata": {
    "collapsed": false,
    "pycharm": {
     "name": "#%%\n"
    }
   }
  }
 ],
 "metadata": {
  "kernelspec": {
   "display_name": "Python 3",
   "language": "python",
   "name": "python3"
  },
  "language_info": {
   "codemirror_mode": {
    "name": "ipython",
    "version": 2
   },
   "file_extension": ".py",
   "mimetype": "text/x-python",
   "name": "python",
   "nbconvert_exporter": "python",
   "pygments_lexer": "ipython2",
   "version": "2.7.6"
  }
 },
 "nbformat": 4,
 "nbformat_minor": 0
}