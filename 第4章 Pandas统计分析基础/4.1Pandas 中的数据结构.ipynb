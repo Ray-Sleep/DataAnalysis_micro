{
 "cells": [
  {
   "cell_type": "markdown",
   "source": [],
   "metadata": {
    "collapsed": false,
    "pycharm": {
     "name": "#%% md\n"
    }
   }
  },
  {
   "cell_type": "markdown",
   "source": [
    "## 1.Series 的创建\n",
    "Series 是一种一位数组对象，包含一个值序列，并且包含数据标签，成为索引（index），通过索引来访问数组中的数据"
   ],
   "metadata": {
    "collapsed": false,
    "pycharm": {
     "name": "#%% md\n"
    }
   }
  },
  {
   "cell_type": "code",
   "execution_count": 2,
   "outputs": [
    {
     "name": "stdout",
     "output_type": "stream",
     "text": [
      "0    1\n",
      "1   -2\n",
      "2    3\n",
      "3   -4\n",
      "dtype: int64\n"
     ]
    }
   ],
   "source": [
    "# 1)通过列表创建\n",
    "import pandas as pd\n",
    "obj = pd.Series([1,-2,3,-4])\n",
    "print(obj)"
   ],
   "metadata": {
    "collapsed": false,
    "pycharm": {
     "name": "#%%\n"
    }
   }
  },
  {
   "cell_type": "markdown",
   "source": [
    "# 2.DataFrame\n",
    "DataFrame是一个表格型的数据结构，它含有一组有序的列，每列可以是不同类型的值（数值、字符串、布尔值等）。DataFrame 既有行索引也有列索引，它可以被看作由Series组成的字典（共用同一个索引）。跟其他类似的数据结构相比（如R的 data. frame），DataFrame中面向行和面向列的操作基本上是平衡的。\n"
   ],
   "metadata": {
    "collapsed": false,
    "pycharm": {
     "name": "#%% md\n"
    }
   }
  },
  {
   "cell_type": "code",
   "execution_count": 4,
   "outputs": [
    {
     "name": "stdout",
     "output_type": "stream",
     "text": [
      "  name     sex  year city\n",
      "0   张三  female  2001   北京\n",
      "1   李四  female  2001   上海\n",
      "2   王五    male  2003   广州\n",
      "3   小明    male  2002   北京\n"
     ]
    }
   ],
   "source": [
    "# DataFrame 的创建\n",
    "data = {\n",
    "    'name':['张三','李四','王五','小明'],\n",
    "    'sex':['female','female','male','male'],\n",
    "    'year':[2001,2001,2003,2002],\n",
    "    'city':['北京','上海','广州','北京']\n",
    "    }\n",
    "df = pd.DataFrame(data)\n",
    "print(df)"
   ],
   "metadata": {
    "collapsed": false,
    "pycharm": {
     "name": "#%%\n"
    }
   }
  },
  {
   "cell_type": "markdown",
   "source": [
    "跟 Series 一样，如果传入的列在数据中找不到，就会产生 NaN 值"
   ],
   "metadata": {
    "collapsed": false,
    "pycharm": {
     "name": "#%% md\n"
    }
   }
  },
  {
   "cell_type": "code",
   "execution_count": 5,
   "outputs": [
    {
     "name": "stdout",
     "output_type": "stream",
     "text": [
      "  name  year     sex city address\n",
      "0   张三  2001  female   北京     NaN\n",
      "1   李四  2001  female   上海     NaN\n",
      "2   王五  2003    male   广州     NaN\n",
      "3   小明  2002    male   北京     NaN\n"
     ]
    }
   ],
   "source": [
    "# DataFrame 创建时的空缺值\n",
    "df2 = pd.DataFrame(data,columns = ['name','year','sex','city','address'])\n",
    "print(df2)"
   ],
   "metadata": {
    "collapsed": false,
    "pycharm": {
     "name": "#%%\n"
    }
   }
  },
  {
   "cell_type": "code",
   "execution_count": 8,
   "outputs": [
    {
     "name": "stdout",
     "output_type": "stream",
     "text": [
      "  name  year     sex city\n",
      "a   张三  2001  female   北京\n",
      "b   李四  2001  female   上海\n",
      "c   王五  2003    male   广州\n",
      "d   小明  2002    male   北京\n"
     ]
    }
   ],
   "source": [
    "# DataFrame 创建时指定列名\n",
    "df3 = pd.DataFrame(data,columns = ['name','year','sex','city'],index=['a','b','c','d'])\n",
    "print(df3)"
   ],
   "metadata": {
    "collapsed": false,
    "pycharm": {
     "name": "#%%\n"
    }
   }
  },
  {
   "cell_type": "markdown",
   "source": [
    "# 3.索引对象\n",
    "Pandas 的索引对象负责管理轴标签 和 其他元数据（例如轴名称等）。构建 Series 或 DataFrame 时，所用到的任何数组 或 其他序列的标签都会被转换成一个 Index。"
   ],
   "metadata": {
    "collapsed": false,
    "pycharm": {
     "name": "#%% md\n"
    }
   }
  },
  {
   "cell_type": "code",
   "execution_count": 9,
   "outputs": [
    {
     "name": "stdout",
     "output_type": "stream",
     "text": [
      "  name     sex  year city\n",
      "0   张三  female  2001   北京\n",
      "1   李四  female  2001   上海\n",
      "2   王五    male  2003   广州\n",
      "3   小明    male  2002   北京\n",
      "RangeIndex(start=0, stop=4, step=1)\n",
      "Index(['name', 'sex', 'year', 'city'], dtype='object')\n"
     ]
    }
   ],
   "source": [
    "# 显示 DataFrame 的索引 和 列\n",
    "print(df)\n",
    "print(df.index)\n",
    "print(df.columns)"
   ],
   "metadata": {
    "collapsed": false,
    "pycharm": {
     "name": "#%%\n"
    }
   }
  },
  {
   "cell_type": "markdown",
   "source": [
    "索引对象不能进行修改，否则会报错，因此用户不能对其进行修改。不可修改性非常重要，因为这样才能使Index对象在多个数据结构之间安全共享。\n",
    "除了长得像数组，Index的功能也类似于一个固定大小的集合"
   ],
   "metadata": {
    "collapsed": false,
    "pycharm": {
     "name": "#%% md\n"
    }
   }
  },
  {
   "cell_type": "code",
   "execution_count": 22,
   "outputs": [
    {
     "name": "stdout",
     "output_type": "stream",
     "text": [
      "True\n",
      "True\n",
      "False\n"
     ]
    }
   ],
   "source": [
    "# DataFrame 的 Index\n",
    "print('name' in df.columns)\n",
    "print( 2 in df.index)\n",
    "print( '2' in df.index)"
   ],
   "metadata": {
    "collapsed": false,
    "pycharm": {
     "name": "#%%\n"
    }
   }
  },
  {
   "cell_type": "markdown",
   "source": [
    "每个索引都有一些方法和属性，它们可用于设置逻辑并回答有关该索引所包含的数据的常见问题。Index的常用方法和属性见表4-1。"
   ],
   "metadata": {
    "collapsed": false,
    "pycharm": {
     "name": "#%% md\n"
    }
   }
  },
  {
   "cell_type": "code",
   "execution_count": 24,
   "outputs": [
    {
     "name": "stdout",
     "output_type": "stream",
     "text": [
      "              方法                         属性\n",
      "0         append   连接另一个Index对象，产生一个新的Index\n",
      "1           diff           计算差集，并得到一个Index \n",
      "2   intersection                       计算交集\n",
      "3          union                       计算并集\n",
      "4           isin  计算一个指示各值是否都包含在参数集合中的布尔型数组\n",
      "5         delete       删除索引i处的元素，并得到新的Index\n",
      "6           drop          删除传入的值，并得到新的Index\n",
      "7         insert       将元素插入索引i处，并得到新的Index\n",
      "8   is_monotonic    当各元素均大于或等于前一个元素时，返回True\n",
      "9      is.unique        当Index没有重复值时，返回True\n",
      "10        unique             计算Index中唯一值的数组\n"
     ]
    }
   ],
   "source": [
    "# 表4_1\n",
    "data= {\n",
    "    '方法':['append','diff','intersection','union','isin','delete','drop','insert','is_monotonic','is.unique','unique'],\n",
    "    '属性':['连接另一个Index对象，产生一个新的Index','计算差集，并得到一个Index ','计算交集','计算并集','计算一个指示各值是否都包含在参数集合中的布尔型数组','删除索引i处的元素，并得到新的Index','删除传入的值，并得到新的Index','将元素插入索引i处，并得到新的Index','当各元素均大于或等于前一个元素时，返回True','当Index没有重复值时，返回True','计算Index中唯一值的数组']\n",
    "}\n",
    "df4_1 = pd.DataFrame(data)\n",
    "print(df4_1)"
   ],
   "metadata": {
    "collapsed": false,
    "pycharm": {
     "name": "#%%\n"
    }
   }
  },
  {
   "cell_type": "code",
   "execution_count": 25,
   "outputs": [
    {
     "data": {
      "text/plain": "Index([0, 'w', 1, 2, 3], dtype='object')"
     },
     "execution_count": 25,
     "metadata": {},
     "output_type": "execute_result"
    }
   ],
   "source": [
    "# 插入索引值\n",
    "df.index.insert(1,'w')"
   ],
   "metadata": {
    "collapsed": false,
    "pycharm": {
     "name": "#%%\n"
    }
   }
  },
  {
   "cell_type": "markdown",
   "source": [
    "# 4.查看DataFrame 的常用属性\n",
    "DataFrame的基础属性有values、index、columns、dtypes、ndim和shape，分别可以获取DataFrame的元素、索引、列名、类型、维度和形状。"
   ],
   "metadata": {
    "collapsed": false,
    "pycharm": {
     "name": "#%% md\n"
    }
   }
  },
  {
   "cell_type": "code",
   "execution_count": 28,
   "outputs": [
    {
     "name": "stdout",
     "output_type": "stream",
     "text": [
      "  name     sex  year city\n",
      "0   张三  female  2001   北京\n",
      "1   李四  female  2001   上海\n",
      "2   王五    male  2003   广州\n",
      "3   小明    male  2002   北京\n",
      "信息表的所有值为：\n",
      " [['张三' 'female' 2001 '北京']\n",
      " ['李四' 'female' 2001 '上海']\n",
      " ['王五' 'male' 2003 '广州']\n",
      " ['小明' 'male' 2002 '北京']]\n",
      "信息表的所有列为\n",
      " Index(['name', 'sex', 'year', 'city'], dtype='object')\n",
      "信息表的元素个数为\n",
      " 16\n",
      "信息表的维度时\n",
      " 2\n",
      "信息表的形状为\n",
      " (4, 4)\n"
     ]
    }
   ],
   "source": [
    "print(df)\n",
    "print('信息表的所有值为：\\n',df.values)\n",
    "print('信息表的所有列为\\n',df.columns)\n",
    "print('信息表的元素个数为\\n',df.size)\n",
    "print('信息表的维度时\\n',df.ndim)\n",
    "print('信息表的形状为\\n',df.shape)"
   ],
   "metadata": {
    "collapsed": false,
    "pycharm": {
     "name": "#%%\n"
    }
   }
  },
  {
   "cell_type": "code",
   "execution_count": null,
   "outputs": [],
   "source": [],
   "metadata": {
    "collapsed": false,
    "pycharm": {
     "name": "#%%\n"
    }
   }
  }
 ],
 "metadata": {
  "kernelspec": {
   "display_name": "Python 3",
   "language": "python",
   "name": "python3"
  },
  "language_info": {
   "codemirror_mode": {
    "name": "ipython",
    "version": 2
   },
   "file_extension": ".py",
   "mimetype": "text/x-python",
   "name": "python",
   "nbconvert_exporter": "python",
   "pygments_lexer": "ipython2",
   "version": "2.7.6"
  }
 },
 "nbformat": 4,
 "nbformat_minor": 0
}