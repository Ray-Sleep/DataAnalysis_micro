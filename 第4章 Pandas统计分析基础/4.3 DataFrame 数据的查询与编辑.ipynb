{
 "cells": [
  {
   "cell_type": "markdown",
   "source": [
    "# 1.DataFrame 数据的查询\n",
    "在数据分析中，选取需要的数据进行分析处理是最基本的操作。在Pandas中需要通过索引完成数据的选取。"
   ],
   "metadata": {
    "collapsed": false,
    "pycharm": {
     "name": "#%% md\n"
    }
   }
  },
  {
   "cell_type": "markdown",
   "source": [
    "### 1) 选取列\n",
    "通过列索引标签或以属性的方式可以单独获取DataFrame的列数据，返回的数据为Series类型数据。"
   ],
   "metadata": {
    "collapsed": false,
    "pycharm": {
     "name": "#%% md\n"
    }
   }
  },
  {
   "cell_type": "code",
   "execution_count": null,
   "metadata": {
    "collapsed": true,
    "pycharm": {
     "name": "#%%\n"
    }
   },
   "outputs": [],
   "source": [
    "import pandas\n",
    "# 选取列数据\n",
    "w1 = df['name']\n",
    "print()\n"
   ]
  }
 ],
 "metadata": {
  "kernelspec": {
   "display_name": "Python 3",
   "language": "python",
   "name": "python3"
  },
  "language_info": {
   "codemirror_mode": {
    "name": "ipython",
    "version": 2
   },
   "file_extension": ".py",
   "mimetype": "text/x-python",
   "name": "python",
   "nbconvert_exporter": "python",
   "pygments_lexer": "ipython2",
   "version": "2.7.6"
  }
 },
 "nbformat": 4,
 "nbformat_minor": 0
}